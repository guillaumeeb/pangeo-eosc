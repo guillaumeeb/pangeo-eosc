{
 "cells": [
  {
   "cell_type": "code",
   "execution_count": null,
   "id": "67192850-eff4-4170-b027-88e61494b9e6",
   "metadata": {},
   "outputs": [],
   "source": [
    "!pip install swiftspec"
   ]
  },
  {
   "cell_type": "code",
   "execution_count": null,
   "id": "d53541df-aa19-49d4-9499-d697074d544c",
   "metadata": {},
   "outputs": [],
   "source": [
    "!pip install zarr-swiftstore"
   ]
  },
  {
   "cell_type": "code",
   "execution_count": null,
   "id": "3e2f1a0d-2dd1-4177-86ed-1d5954a6d63f",
   "metadata": {
    "tags": []
   },
   "outputs": [],
   "source": [
    "import xarray as xr\n",
    "import s3fs\n",
    "import swiftspec\n",
    "import zarr\n",
    "import numpy as np\n",
    "import dask.array as da\n",
    "import xarray as xr\n",
    "from dask.utils import parse_bytes\n",
    "import math\n",
    "import pandas as pd\n",
    "import dask\n",
    "from zarrswift import SwiftStore"
   ]
  },
  {
   "cell_type": "markdown",
   "id": "59763dc3-c819-40ff-83d0-dfb6086a0c16",
   "metadata": {},
   "source": [
    "# Access on read only with S3"
   ]
  },
  {
   "cell_type": "code",
   "execution_count": null,
   "id": "4a737124-ac22-4bca-9ec1-4b170f381f8c",
   "metadata": {},
   "outputs": [],
   "source": [
    "client_kwargs={'endpoint_url': 'https://object-store.cloud.muni.cz'}\n",
    "\n",
    "fs = s3fs.S3FileSystem(anon=True, client_kwargs=client_kwargs)"
   ]
  },
  {
   "cell_type": "code",
   "execution_count": null,
   "id": "503e8cdf-a727-4b83-b85f-f52a579b6533",
   "metadata": {},
   "outputs": [],
   "source": [
    "fs.ls('foss4g-data')"
   ]
  },
  {
   "cell_type": "code",
   "execution_count": null,
   "id": "c4faa99c-db48-49d8-9343-cae7d15e8596",
   "metadata": {},
   "outputs": [],
   "source": [
    "fs.mkdir('foss4g-data/mydir')"
   ]
  },
  {
   "cell_type": "code",
   "execution_count": null,
   "id": "519f9efb-d06e-424a-9768-3f123aacdf51",
   "metadata": {},
   "outputs": [],
   "source": [
    "fs.ls('foss4g-data')"
   ]
  },
  {
   "cell_type": "markdown",
   "id": "3f7469de-e30a-4fd9-abbe-a081a46348b7",
   "metadata": {},
   "source": [
    "# Access with swiftfsspec"
   ]
  },
  {
   "cell_type": "code",
   "execution_count": null,
   "id": "62425b47-05a7-48cb-a945-d0571a890aee",
   "metadata": {},
   "outputs": [],
   "source": [
    "fs = swiftspec.SWIFTFileSystem()"
   ]
  },
  {
   "cell_type": "code",
   "execution_count": null,
   "id": "8b86ff8d-5e41-4d9e-9b30-1dd39b0edd95",
   "metadata": {},
   "outputs": [],
   "source": [
    "import fsspec\n",
    "with fsspec.open(\"swift://object-store.cloud.muni.cz/swift/v1/pangeo-test/jupyterbook-html.zip\", \"r\") as f:\n",
    "    print(f.read())"
   ]
  },
  {
   "cell_type": "code",
   "execution_count": null,
   "id": "a5133f83-95a3-4758-81f8-c039a792f4e4",
   "metadata": {},
   "outputs": [],
   "source": [
    "fs.ls(\"swift://object-store.cloud.muni.cz/swift/pangeo-test/none\")"
   ]
  },
  {
   "cell_type": "markdown",
   "id": "2233d414-bfbc-4562-81c5-62098af1c8df",
   "metadata": {},
   "source": [
    "# Zarr swift store"
   ]
  },
  {
   "cell_type": "code",
   "execution_count": null,
   "id": "080bed79-2ba3-4c94-815b-d3113e395eff",
   "metadata": {},
   "outputs": [],
   "source": [
    "import os\n",
    "os.environ[\"OS_STORAGE_URL\"] = \"\"\n",
    "os.environ[\"OS_AUTH_TOKEN\"] = \"\""
   ]
  },
  {
   "cell_type": "code",
   "execution_count": null,
   "id": "2ebde6a6-0d59-479c-a6e4-ec3fcfca48a7",
   "metadata": {},
   "outputs": [],
   "source": [
    "auth = {\n",
    "    \"preauthurl\": os.environ[\"OS_STORAGE_URL\"],\n",
    "    \"preauthtoken\": os.environ[\"OS_AUTH_TOKEN\"],\n",
    "}"
   ]
  },
  {
   "cell_type": "code",
   "execution_count": null,
   "id": "eeb40d53-a465-4ada-902d-c542a9d7501d",
   "metadata": {},
   "outputs": [],
   "source": [
    "ds = xr.Dataset(\n",
    "        {\"foo\": (('x', 'y'), np.random.rand(4, 5))},\n",
    "        coords = {\n",
    "          'x': [10, 20, 30, 40],\n",
    "          'y': [1, 2, 3, 4, 5],\n",
    "        },\n",
    ")\n",
    "\n",
    "store = SwiftStore(container='demo', prefix='xarray-demo', storage_options=auth)\n",
    "ds.to_zarr(store=store, mode='w', consolidated=True)"
   ]
  },
  {
   "cell_type": "code",
   "execution_count": null,
   "id": "580fc862-30c3-4e2d-a7e0-3d29c55d209e",
   "metadata": {},
   "outputs": [],
   "source": [
    "ds = xr.open_zarr(store=store, consolidated=True)"
   ]
  },
  {
   "cell_type": "markdown",
   "id": "be8b680b-2af5-463c-80c7-244643a441fd",
   "metadata": {},
   "source": [
    "# Performance test"
   ]
  },
  {
   "cell_type": "markdown",
   "id": "9c185b20-158f-4ab1-ac14-9f6faba8db33",
   "metadata": {},
   "source": [
    "## Dataset setup"
   ]
  },
  {
   "cell_type": "code",
   "execution_count": null,
   "id": "24707d01-2c5b-48a5-892d-89bc9300247b",
   "metadata": {},
   "outputs": [],
   "source": [
    "def timeseries(\n",
    "    chunk_per_worker=5,\n",
    "    chunk_size=\"128 MB\",\n",
    "    num_nodes=12,\n",
    "    worker_per_node=4,\n",
    "    chunking_scheme=None,\n",
    "    lat=320,\n",
    "    lon=384,\n",
    "    start=\"1980-01-01\",\n",
    "    freq=\"1H\",\n",
    "    nan=False,\n",
    "):\n",
    "    \"\"\" Create synthetic Xarray dataset filled with random\n",
    "    data.\n",
    "    Parameters\n",
    "    ----------\n",
    "    chunk_per_worker : int\n",
    "          number of chunk placed per worker.\n",
    "          see docs.dask.org, best practices, for chunk.\n",
    "          Best chunk size is around 100M but, each worker can\n",
    "          have many chunk, which automate the parallelism in dask.\n",
    "    chunk_size : str\n",
    "          chunk size in bytes, kilo, mega or any factor of bytes\n",
    "    num_nodes : int\n",
    "           number of compute nodes\n",
    "    worker_per_node: int\n",
    "           number of dask workers per node\n",
    "    chunking_scheme : str\n",
    "           Whether to chunk across time dimension ('temporal') or\n",
    "           horizontal dimensions (lat, lon) ('spatial').\n",
    "           If None, automatically determine chunk sizes along all dimensions.\n",
    "    lat : int\n",
    "         number of latitude values\n",
    "    lon : int\n",
    "         number of longitude values\n",
    "    start : datetime (or datetime-like string)\n",
    "        Start of time series\n",
    "    freq : string\n",
    "        String like '2s' or '1H' or '12W' for the time series frequency\n",
    "    nan : bool\n",
    "         Whether to include nan in generated data\n",
    "    Examples\n",
    "    ---------\n",
    "    >>> from benchmarks.datasets import timeseries\n",
    "    >>> ds = timeseries('128MB', 5, chunking_scheme='spatial', lat=500, lon=600)\n",
    "    >>> ds\n",
    "    <xarray.Dataset>\n",
    "    Dimensions:  (lat: 500, lon: 600, time: 267)\n",
    "    Coordinates:\n",
    "    * time     (time) datetime64[ns] 1980-01-01 1980-01-02 ... 1980-09-23\n",
    "    * lon      (lon) float64 -180.0 -179.4 -178.8 -178.2 ... 178.8 179.4 180.0\n",
    "    * lat      (lat) float64 -90.0 -89.64 -89.28 -88.92 ... 88.92 89.28 89.64 90.0\n",
    "    Data variables:\n",
    "        sst      (time, lon, lat) float64 dask.array<shape=(267, 600, 500), .....\n",
    "    Attributes:\n",
    "        history:  created for compute benchmarking\n",
    "    \"\"\"\n",
    "\n",
    "    dt = np.dtype(\"f8\")\n",
    "    itemsize = dt.itemsize\n",
    "    chunk_size = parse_bytes(chunk_size)\n",
    "    total_bytes = chunk_size * num_nodes * worker_per_node * chunk_per_worker\n",
    "    # total_bytes = chunk_size * num_nodes * worker_per_node\n",
    "    size = total_bytes / itemsize\n",
    "    timesteps = math.ceil(size / (lat * lon))\n",
    "    shape = (timesteps, lon, lat)\n",
    "    if chunking_scheme == \"temporal\":\n",
    "        x = math.ceil(chunk_size / (lon * lat * itemsize))\n",
    "        chunks = (x, lon, lat)\n",
    "    elif chunking_scheme == \"spatial\":\n",
    "        x = math.ceil(math.sqrt(chunk_size / (timesteps * itemsize)))\n",
    "        chunks = (timesteps, x, x)\n",
    "    else:\n",
    "        chunks = \"auto\"\n",
    "\n",
    "    lats = xr.DataArray(np.linspace(start=-90, stop=90, num=lat), dims=[\"lat\"])\n",
    "    lons = xr.DataArray(np.linspace(start=-180, stop=180, num=lon), dims=[\"lon\"])\n",
    "    times = xr.DataArray(pd.date_range(start=start, freq=freq, periods=timesteps), dims=[\"time\"])\n",
    "    if chunks == \"auto\":\n",
    "        with dask.config.set({\"array.chunk-size\": chunk_size}):\n",
    "            random_data = randn(shape=shape, chunks=chunks, nan=nan)\n",
    "    else:\n",
    "        random_data = randn(shape=shape, chunks=chunks, nan=nan)\n",
    "    ds = xr.DataArray(\n",
    "        random_data,\n",
    "        dims=[\"time\", \"lon\", \"lat\"],\n",
    "        coords={\"time\": times, \"lon\": lons, \"lat\": lats},\n",
    "        name=\"sst\",\n",
    "        attrs={\"units\": \"baz units\", \"description\": \"a description\"},\n",
    "    ).to_dataset()\n",
    "    ds.attrs = {\"history\": \"created for compute benchmarking\"}\n",
    "\n",
    "    return ds\n",
    "\n",
    "\n",
    "def randn(shape, chunks=None, nan=False, seed=0):\n",
    "    rng = da.random.RandomState(seed)\n",
    "    x = 5 + 3 * rng.standard_normal(shape, chunks=chunks)\n",
    "    if nan:\n",
    "        x = da.where(x < 0, np.nan, x)\n",
    "    return x"
   ]
  },
  {
   "cell_type": "markdown",
   "id": "c5b8fe3d-cb97-40ee-a157-d011bdc035e7",
   "metadata": {},
   "source": [
    "## Setup Dask"
   ]
  },
  {
   "cell_type": "code",
   "execution_count": null,
   "id": "d777cc3e-1509-430f-8f52-5e1010bd7c9b",
   "metadata": {},
   "outputs": [],
   "source": [
    "from dask_gateway import Gateway\n",
    "gateway = Gateway()"
   ]
  },
  {
   "cell_type": "code",
   "execution_count": null,
   "id": "900ba479-8791-4d9c-8363-b94066d2435b",
   "metadata": {},
   "outputs": [],
   "source": [
    "cluster = gateway.new_cluster()\n",
    "cluster.scale(20)\n",
    "cluster"
   ]
  },
  {
   "cell_type": "code",
   "execution_count": null,
   "id": "25d9c9c9-3f74-4582-bf81-6b68014e6bbc",
   "metadata": {},
   "outputs": [],
   "source": [
    "from dask.distributed import Client\n",
    "client = Client(cluster)\n",
    "client"
   ]
  },
  {
   "cell_type": "markdown",
   "id": "788a86c2-58ec-4f83-8ab6-cec31744ba96",
   "metadata": {},
   "source": [
    "## Create dataset and write with zarr"
   ]
  },
  {
   "cell_type": "code",
   "execution_count": null,
   "id": "ca9ffe5a-135f-4d54-89c8-7547cbbcaa7a",
   "metadata": {},
   "outputs": [],
   "source": [
    "ds = timeseries(chunk_size='64 MiB', chunking_scheme='temporal', chunk_per_worker=20)\n",
    "ds"
   ]
  },
  {
   "cell_type": "code",
   "execution_count": null,
   "id": "f28f0f1c-0fa9-4f66-836f-9c0d1e91a6b6",
   "metadata": {},
   "outputs": [],
   "source": [
    "store = SwiftStore(container='pangeo-test', prefix='random-data', storage_options=auth)"
   ]
  },
  {
   "cell_type": "code",
   "execution_count": null,
   "id": "c6cc2fe3-2677-4f33-add0-e463bc2bb261",
   "metadata": {},
   "outputs": [],
   "source": [
    "store.clear()"
   ]
  },
  {
   "cell_type": "code",
   "execution_count": null,
   "id": "fef68190-cd64-4b9f-b935-d85fb1621659",
   "metadata": {},
   "outputs": [],
   "source": [
    "%%time\n",
    "ds.to_zarr(store)"
   ]
  },
  {
   "cell_type": "markdown",
   "id": "503d0f4d-057b-4df2-bcb7-5eb208deb2ad",
   "metadata": {},
   "source": [
    "## Write with small chunks (bad)"
   ]
  },
  {
   "cell_type": "code",
   "execution_count": null,
   "id": "bcb1898a-3de2-4166-b559-cf24cab3553e",
   "metadata": {},
   "outputs": [],
   "source": [
    "ds_ios = timeseries(chunk_per_worker=500, chunking_scheme='temporal',chunk_size=\"256 KB\")\n",
    "ds_ios"
   ]
  },
  {
   "cell_type": "code",
   "execution_count": null,
   "id": "93b87019-315f-45c0-ae7b-e2c2ed152a7f",
   "metadata": {},
   "outputs": [],
   "source": [
    "store_ios = SwiftStore(container='pangeo-test', prefix='random-data-iops', storage_options=auth)\n",
    "store_ios.clear()"
   ]
  },
  {
   "cell_type": "code",
   "execution_count": null,
   "id": "e655a91d-8beb-4cd4-a8e7-a34cf68593a5",
   "metadata": {},
   "outputs": [],
   "source": [
    "%%time\n",
    "ds_ios.to_zarr(store_ios)"
   ]
  },
  {
   "cell_type": "markdown",
   "id": "cd32b79d-4b5a-469e-a3e7-37a37a8643e8",
   "metadata": {},
   "source": [
    "## Read with Zarr-swift"
   ]
  },
  {
   "cell_type": "code",
   "execution_count": null,
   "id": "cfd2322f-99b2-4911-9dd7-4a7e9c47076a",
   "metadata": {},
   "outputs": [],
   "source": [
    "ds_read = xr.open_zarr(store).persist()\n",
    "ds_read"
   ]
  },
  {
   "cell_type": "markdown",
   "id": "eb823c17-a250-49ba-85dc-0a5fd6bca7b7",
   "metadata": {},
   "source": [
    "## Read with S3"
   ]
  },
  {
   "cell_type": "code",
   "execution_count": null,
   "id": "1f324f44-d0c3-46b6-adb8-f51cff84f633",
   "metadata": {},
   "outputs": [],
   "source": [
    "client_kwargs={'endpoint_url': 'https://object-store.cloud.muni.cz'}\n",
    "fs = s3fs.S3FileSystem(anon=True, client_kwargs=client_kwargs)"
   ]
  },
  {
   "cell_type": "code",
   "execution_count": null,
   "id": "b38c910e-79b5-490b-940b-3294829e3657",
   "metadata": {},
   "outputs": [],
   "source": [
    "store = s3fs.S3Map(root='pangeo-test/random-data',\n",
    "                   s3=fs,\n",
    "                   check=False)"
   ]
  },
  {
   "cell_type": "code",
   "execution_count": null,
   "id": "468e8138-d51e-4480-b249-4c26bc3a87f9",
   "metadata": {},
   "outputs": [],
   "source": [
    "ds_read_s3 = xr.open_zarr(store).persist()\n",
    "ds_read_s3"
   ]
  },
  {
   "cell_type": "markdown",
   "id": "8fc2fd0b-04c0-4558-a4c7-7df8d2a47b2a",
   "metadata": {},
   "source": [
    "## Clean resources"
   ]
  },
  {
   "cell_type": "code",
   "execution_count": null,
   "id": "e955a81e-0ef5-4856-8da1-e118bf358180",
   "metadata": {},
   "outputs": [],
   "source": [
    "cluster.shutdown()"
   ]
  },
  {
   "cell_type": "code",
   "execution_count": null,
   "id": "78ec4807-ef9a-4257-80af-a1d0cf29b7e7",
   "metadata": {},
   "outputs": [],
   "source": [
    "client.close()"
   ]
  },
  {
   "cell_type": "code",
   "execution_count": null,
   "id": "f595559b-1aa9-4774-81f5-e3be98daa050",
   "metadata": {},
   "outputs": [],
   "source": []
  }
 ],
 "metadata": {
  "kernelspec": {
   "display_name": "Python 3 (ipykernel)",
   "language": "python",
   "name": "python3"
  },
  "language_info": {
   "codemirror_mode": {
    "name": "ipython",
    "version": 3
   },
   "file_extension": ".py",
   "mimetype": "text/x-python",
   "name": "python",
   "nbconvert_exporter": "python",
   "pygments_lexer": "ipython3",
   "version": "3.9.13"
  }
 },
 "nbformat": 4,
 "nbformat_minor": 5
}
