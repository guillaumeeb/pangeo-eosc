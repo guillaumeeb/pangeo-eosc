{
 "cells": [
  {
   "cell_type": "code",
   "execution_count": 1,
   "id": "c4ae4f29-ce08-4546-9d51-01d3d6b1dbc5",
   "metadata": {
    "tags": []
   },
   "outputs": [],
   "source": [
    "import xarray as xr\n",
    "import s3fs\n",
    "import zarr\n",
    "import numpy as np\n",
    "import dask.array as da\n",
    "import xarray as xr\n",
    "from dask.utils import parse_bytes\n",
    "import math\n",
    "import pandas as pd\n",
    "import dask\n",
    "import os"
   ]
  },
  {
   "cell_type": "markdown",
   "id": "833332ac-c23f-4b48-8e91-12ad1b2b9917",
   "metadata": {},
   "source": [
    "# Simple MinIO access with s3fs"
   ]
  },
  {
   "cell_type": "code",
   "execution_count": 2,
   "id": "a2ddfe89-cedc-4db4-8d27-a59a3cc71315",
   "metadata": {
    "tags": []
   },
   "outputs": [],
   "source": [
    "#!aws configure set aws_access_key_id xxx\n",
    "#!aws configure set aws_secret_access_key yyy"
   ]
  },
  {
   "cell_type": "code",
   "execution_count": 3,
   "id": "c660357b-4cff-4f07-8f01-7bcd743bea6f",
   "metadata": {
    "tags": []
   },
   "outputs": [],
   "source": [
    "access_key = !aws configure get aws_access_key_id\n",
    "access_key = access_key[0]\n",
    "secret_key = !aws configure get aws_secret_access_key\n",
    "secret_key = secret_key[0]"
   ]
  },
  {
   "cell_type": "code",
   "execution_count": 4,
   "id": "3f938612-2a10-48f0-97ef-f6ce5d14f8a2",
   "metadata": {
    "tags": []
   },
   "outputs": [],
   "source": [
    "client_kwargs={'endpoint_url': 'https://daskminioapi.vm.fedcloud.eu/'}\n",
    "\n",
    "#s3 = s3fs.S3FileSystem(anon=False, client_kwargs=client_kwargs) # Works only when using s3 in this Notebook, not with distributed.\n",
    "s3 = s3fs.S3FileSystem(key=access_key, secret=secret_key, client_kwargs=client_kwargs)"
   ]
  },
  {
   "cell_type": "code",
   "execution_count": 5,
   "id": "03b164e0-eef5-4843-b614-2ee98db610cd",
   "metadata": {
    "tags": []
   },
   "outputs": [
    {
     "data": {
      "text/plain": [
       "['geynardbontemps-test/myfile',\n",
       " 'geynardbontemps-test/xarray-demo-dask-s3',\n",
       " 'geynardbontemps-test/xarray-demo-dask-s3-distributed']"
      ]
     },
     "execution_count": 5,
     "metadata": {},
     "output_type": "execute_result"
    }
   ],
   "source": [
    "s3_prefix = os.environ['JUPYTERHUB_USER']\n",
    "s3_suffix = 'test'\n",
    "s3_bucket = s3_prefix + '-' + s3_suffix + '/'\n",
    "s3.ls(s3_bucket)"
   ]
  },
  {
   "cell_type": "code",
   "execution_count": 6,
   "id": "f89c4de0-848c-4720-b35f-1d699435e7d1",
   "metadata": {
    "tags": []
   },
   "outputs": [
    {
     "data": {
      "text/plain": [
       "{'ResponseMetadata': {'RequestId': '174A2160198AAA39',\n",
       "  'HostId': 'e3b0c44298fc1c149afbf4c8996fb92427ae41e4649b934ca495991b7852b855',\n",
       "  'HTTPStatusCode': 200,\n",
       "  'HTTPHeaders': {'date': 'Tue, 07 Mar 2023 12:01:47 GMT',\n",
       "   'content-length': '0',\n",
       "   'connection': 'keep-alive',\n",
       "   'accept-ranges': 'bytes',\n",
       "   'content-security-policy': 'block-all-mixed-content',\n",
       "   'etag': '\"d41d8cd98f00b204e9800998ecf8427e\"',\n",
       "   'strict-transport-security': 'max-age=15724800; includeSubDomains',\n",
       "   'vary': 'Accept-Encoding',\n",
       "   'x-amz-id-2': 'e3b0c44298fc1c149afbf4c8996fb92427ae41e4649b934ca495991b7852b855',\n",
       "   'x-amz-request-id': '174A2160198AAA39',\n",
       "   'x-content-type-options': 'nosniff',\n",
       "   'x-xss-protection': '1; mode=block'},\n",
       "  'RetryAttempts': 0},\n",
       " 'ETag': '\"d41d8cd98f00b204e9800998ecf8427e\"'}"
      ]
     },
     "execution_count": 6,
     "metadata": {},
     "output_type": "execute_result"
    }
   ],
   "source": [
    "s3.touch(s3_bucket + 'myfile')"
   ]
  },
  {
   "cell_type": "code",
   "execution_count": 7,
   "id": "e8f5cde6-5495-4353-be92-f848d3b42d9f",
   "metadata": {
    "tags": []
   },
   "outputs": [
    {
     "data": {
      "text/plain": [
       "['geynardbontemps-test/myfile',\n",
       " 'geynardbontemps-test/xarray-demo-dask-s3',\n",
       " 'geynardbontemps-test/xarray-demo-dask-s3-distributed']"
      ]
     },
     "execution_count": 7,
     "metadata": {},
     "output_type": "execute_result"
    }
   ],
   "source": [
    "s3.ls(s3_bucket)"
   ]
  },
  {
   "cell_type": "markdown",
   "id": "8eb691f9-42ab-455e-912d-8a6c7ecdb87b",
   "metadata": {},
   "source": [
    "# Try to write some Zarr"
   ]
  },
  {
   "cell_type": "code",
   "execution_count": 8,
   "id": "e5c679e5-aa11-43ea-8aa5-2551192db872",
   "metadata": {
    "tags": []
   },
   "outputs": [],
   "source": [
    "def timeseries(\n",
    "    chunk_per_worker=5,\n",
    "    chunk_size=\"128 MB\",\n",
    "    num_nodes=12,\n",
    "    worker_per_node=4,\n",
    "    chunking_scheme=None,\n",
    "    lat=320,\n",
    "    lon=384,\n",
    "    start=\"1980-01-01\",\n",
    "    freq=\"1H\",\n",
    "    nan=False,\n",
    "):\n",
    "    \"\"\" Create synthetic Xarray dataset filled with random\n",
    "    data.\n",
    "    Parameters\n",
    "    ----------\n",
    "    chunk_per_worker : int\n",
    "          number of chunk placed per worker.\n",
    "          see docs.dask.org, best practices, for chunk.\n",
    "          Best chunk size is around 100M but, each worker can\n",
    "          have many chunk, which automate the parallelism in dask.\n",
    "    chunk_size : str\n",
    "          chunk size in bytes, kilo, mega or any factor of bytes\n",
    "    num_nodes : int\n",
    "           number of compute nodes\n",
    "    worker_per_node: int\n",
    "           number of dask workers per node\n",
    "    chunking_scheme : str\n",
    "           Whether to chunk across time dimension ('temporal') or\n",
    "           horizontal dimensions (lat, lon) ('spatial').\n",
    "           If None, automatically determine chunk sizes along all dimensions.\n",
    "    lat : int\n",
    "         number of latitude values\n",
    "    lon : int\n",
    "         number of longitude values\n",
    "    start : datetime (or datetime-like string)\n",
    "        Start of time series\n",
    "    freq : string\n",
    "        String like '2s' or '1H' or '12W' for the time series frequency\n",
    "    nan : bool\n",
    "         Whether to include nan in generated data\n",
    "    Examples\n",
    "    ---------\n",
    "    >>> from benchmarks.datasets import timeseries\n",
    "    >>> ds = timeseries('128MB', 5, chunking_scheme='spatial', lat=500, lon=600)\n",
    "    >>> ds\n",
    "    <xarray.Dataset>\n",
    "    Dimensions:  (lat: 500, lon: 600, time: 267)\n",
    "    Coordinates:\n",
    "    * time     (time) datetime64[ns] 1980-01-01 1980-01-02 ... 1980-09-23\n",
    "    * lon      (lon) float64 -180.0 -179.4 -178.8 -178.2 ... 178.8 179.4 180.0\n",
    "    * lat      (lat) float64 -90.0 -89.64 -89.28 -88.92 ... 88.92 89.28 89.64 90.0\n",
    "    Data variables:\n",
    "        sst      (time, lon, lat) float64 dask.array<shape=(267, 600, 500), .....\n",
    "    Attributes:\n",
    "        history:  created for compute benchmarking\n",
    "    \"\"\"\n",
    "\n",
    "    dt = np.dtype(\"f8\")\n",
    "    itemsize = dt.itemsize\n",
    "    chunk_size = parse_bytes(chunk_size)\n",
    "    total_bytes = chunk_size * num_nodes * worker_per_node * chunk_per_worker\n",
    "    # total_bytes = chunk_size * num_nodes * worker_per_node\n",
    "    size = total_bytes / itemsize\n",
    "    timesteps = math.ceil(size / (lat * lon))\n",
    "    shape = (timesteps, lon, lat)\n",
    "    if chunking_scheme == \"temporal\":\n",
    "        x = math.ceil(chunk_size / (lon * lat * itemsize))\n",
    "        chunks = (x, lon, lat)\n",
    "    elif chunking_scheme == \"spatial\":\n",
    "        x = math.ceil(math.sqrt(chunk_size / (timesteps * itemsize)))\n",
    "        chunks = (timesteps, x, x)\n",
    "    else:\n",
    "        chunks = \"auto\"\n",
    "\n",
    "    lats = xr.DataArray(np.linspace(start=-90, stop=90, num=lat), dims=[\"lat\"])\n",
    "    lons = xr.DataArray(np.linspace(start=-180, stop=180, num=lon), dims=[\"lon\"])\n",
    "    times = xr.DataArray(pd.date_range(start=start, freq=freq, periods=timesteps), dims=[\"time\"])\n",
    "    if chunks == \"auto\":\n",
    "        with dask.config.set({\"array.chunk-size\": chunk_size}):\n",
    "            random_data = randn(shape=shape, chunks=chunks, nan=nan)\n",
    "    else:\n",
    "        random_data = randn(shape=shape, chunks=chunks, nan=nan)\n",
    "    ds = xr.DataArray(\n",
    "        random_data,\n",
    "        dims=[\"time\", \"lon\", \"lat\"],\n",
    "        coords={\"time\": times, \"lon\": lons, \"lat\": lats},\n",
    "        name=\"sst\",\n",
    "        attrs={\"units\": \"baz units\", \"description\": \"a description\"},\n",
    "    ).to_dataset()\n",
    "    ds.attrs = {\"history\": \"created for compute benchmarking\"}\n",
    "\n",
    "    return ds\n",
    "\n",
    "\n",
    "def randn(shape, chunks=None, nan=False, seed=0):\n",
    "    rng = da.random.RandomState(seed)\n",
    "    x = 5 + 3 * rng.standard_normal(shape, chunks=chunks)\n",
    "    if nan:\n",
    "        x = da.where(x < 0, np.nan, x)\n",
    "    return x"
   ]
  },
  {
   "cell_type": "code",
   "execution_count": 9,
   "id": "ec2058ae-b011-4686-bc28-a53d1f1e031d",
   "metadata": {
    "tags": []
   },
   "outputs": [
    {
     "data": {
      "text/html": [
       "<div><svg style=\"position: absolute; width: 0; height: 0; overflow: hidden\">\n",
       "<defs>\n",
       "<symbol id=\"icon-database\" viewBox=\"0 0 32 32\">\n",
       "<path d=\"M16 0c-8.837 0-16 2.239-16 5v4c0 2.761 7.163 5 16 5s16-2.239 16-5v-4c0-2.761-7.163-5-16-5z\"></path>\n",
       "<path d=\"M16 17c-8.837 0-16-2.239-16-5v6c0 2.761 7.163 5 16 5s16-2.239 16-5v-6c0 2.761-7.163 5-16 5z\"></path>\n",
       "<path d=\"M16 26c-8.837 0-16-2.239-16-5v6c0 2.761 7.163 5 16 5s16-2.239 16-5v-6c0 2.761-7.163 5-16 5z\"></path>\n",
       "</symbol>\n",
       "<symbol id=\"icon-file-text2\" viewBox=\"0 0 32 32\">\n",
       "<path d=\"M28.681 7.159c-0.694-0.947-1.662-2.053-2.724-3.116s-2.169-2.030-3.116-2.724c-1.612-1.182-2.393-1.319-2.841-1.319h-15.5c-1.378 0-2.5 1.121-2.5 2.5v27c0 1.378 1.122 2.5 2.5 2.5h23c1.378 0 2.5-1.122 2.5-2.5v-19.5c0-0.448-0.137-1.23-1.319-2.841zM24.543 5.457c0.959 0.959 1.712 1.825 2.268 2.543h-4.811v-4.811c0.718 0.556 1.584 1.309 2.543 2.268zM28 29.5c0 0.271-0.229 0.5-0.5 0.5h-23c-0.271 0-0.5-0.229-0.5-0.5v-27c0-0.271 0.229-0.5 0.5-0.5 0 0 15.499-0 15.5 0v7c0 0.552 0.448 1 1 1h7v19.5z\"></path>\n",
       "<path d=\"M23 26h-14c-0.552 0-1-0.448-1-1s0.448-1 1-1h14c0.552 0 1 0.448 1 1s-0.448 1-1 1z\"></path>\n",
       "<path d=\"M23 22h-14c-0.552 0-1-0.448-1-1s0.448-1 1-1h14c0.552 0 1 0.448 1 1s-0.448 1-1 1z\"></path>\n",
       "<path d=\"M23 18h-14c-0.552 0-1-0.448-1-1s0.448-1 1-1h14c0.552 0 1 0.448 1 1s-0.448 1-1 1z\"></path>\n",
       "</symbol>\n",
       "</defs>\n",
       "</svg>\n",
       "<style>/* CSS stylesheet for displaying xarray objects in jupyterlab.\n",
       " *\n",
       " */\n",
       "\n",
       ":root {\n",
       "  --xr-font-color0: var(--jp-content-font-color0, rgba(0, 0, 0, 1));\n",
       "  --xr-font-color2: var(--jp-content-font-color2, rgba(0, 0, 0, 0.54));\n",
       "  --xr-font-color3: var(--jp-content-font-color3, rgba(0, 0, 0, 0.38));\n",
       "  --xr-border-color: var(--jp-border-color2, #e0e0e0);\n",
       "  --xr-disabled-color: var(--jp-layout-color3, #bdbdbd);\n",
       "  --xr-background-color: var(--jp-layout-color0, white);\n",
       "  --xr-background-color-row-even: var(--jp-layout-color1, white);\n",
       "  --xr-background-color-row-odd: var(--jp-layout-color2, #eeeeee);\n",
       "}\n",
       "\n",
       "html[theme=dark],\n",
       "body[data-theme=dark],\n",
       "body.vscode-dark {\n",
       "  --xr-font-color0: rgba(255, 255, 255, 1);\n",
       "  --xr-font-color2: rgba(255, 255, 255, 0.54);\n",
       "  --xr-font-color3: rgba(255, 255, 255, 0.38);\n",
       "  --xr-border-color: #1F1F1F;\n",
       "  --xr-disabled-color: #515151;\n",
       "  --xr-background-color: #111111;\n",
       "  --xr-background-color-row-even: #111111;\n",
       "  --xr-background-color-row-odd: #313131;\n",
       "}\n",
       "\n",
       ".xr-wrap {\n",
       "  display: block !important;\n",
       "  min-width: 300px;\n",
       "  max-width: 700px;\n",
       "}\n",
       "\n",
       ".xr-text-repr-fallback {\n",
       "  /* fallback to plain text repr when CSS is not injected (untrusted notebook) */\n",
       "  display: none;\n",
       "}\n",
       "\n",
       ".xr-header {\n",
       "  padding-top: 6px;\n",
       "  padding-bottom: 6px;\n",
       "  margin-bottom: 4px;\n",
       "  border-bottom: solid 1px var(--xr-border-color);\n",
       "}\n",
       "\n",
       ".xr-header > div,\n",
       ".xr-header > ul {\n",
       "  display: inline;\n",
       "  margin-top: 0;\n",
       "  margin-bottom: 0;\n",
       "}\n",
       "\n",
       ".xr-obj-type,\n",
       ".xr-array-name {\n",
       "  margin-left: 2px;\n",
       "  margin-right: 10px;\n",
       "}\n",
       "\n",
       ".xr-obj-type {\n",
       "  color: var(--xr-font-color2);\n",
       "}\n",
       "\n",
       ".xr-sections {\n",
       "  padding-left: 0 !important;\n",
       "  display: grid;\n",
       "  grid-template-columns: 150px auto auto 1fr 20px 20px;\n",
       "}\n",
       "\n",
       ".xr-section-item {\n",
       "  display: contents;\n",
       "}\n",
       "\n",
       ".xr-section-item input {\n",
       "  display: none;\n",
       "}\n",
       "\n",
       ".xr-section-item input + label {\n",
       "  color: var(--xr-disabled-color);\n",
       "}\n",
       "\n",
       ".xr-section-item input:enabled + label {\n",
       "  cursor: pointer;\n",
       "  color: var(--xr-font-color2);\n",
       "}\n",
       "\n",
       ".xr-section-item input:enabled + label:hover {\n",
       "  color: var(--xr-font-color0);\n",
       "}\n",
       "\n",
       ".xr-section-summary {\n",
       "  grid-column: 1;\n",
       "  color: var(--xr-font-color2);\n",
       "  font-weight: 500;\n",
       "}\n",
       "\n",
       ".xr-section-summary > span {\n",
       "  display: inline-block;\n",
       "  padding-left: 0.5em;\n",
       "}\n",
       "\n",
       ".xr-section-summary-in:disabled + label {\n",
       "  color: var(--xr-font-color2);\n",
       "}\n",
       "\n",
       ".xr-section-summary-in + label:before {\n",
       "  display: inline-block;\n",
       "  content: '►';\n",
       "  font-size: 11px;\n",
       "  width: 15px;\n",
       "  text-align: center;\n",
       "}\n",
       "\n",
       ".xr-section-summary-in:disabled + label:before {\n",
       "  color: var(--xr-disabled-color);\n",
       "}\n",
       "\n",
       ".xr-section-summary-in:checked + label:before {\n",
       "  content: '▼';\n",
       "}\n",
       "\n",
       ".xr-section-summary-in:checked + label > span {\n",
       "  display: none;\n",
       "}\n",
       "\n",
       ".xr-section-summary,\n",
       ".xr-section-inline-details {\n",
       "  padding-top: 4px;\n",
       "  padding-bottom: 4px;\n",
       "}\n",
       "\n",
       ".xr-section-inline-details {\n",
       "  grid-column: 2 / -1;\n",
       "}\n",
       "\n",
       ".xr-section-details {\n",
       "  display: none;\n",
       "  grid-column: 1 / -1;\n",
       "  margin-bottom: 5px;\n",
       "}\n",
       "\n",
       ".xr-section-summary-in:checked ~ .xr-section-details {\n",
       "  display: contents;\n",
       "}\n",
       "\n",
       ".xr-array-wrap {\n",
       "  grid-column: 1 / -1;\n",
       "  display: grid;\n",
       "  grid-template-columns: 20px auto;\n",
       "}\n",
       "\n",
       ".xr-array-wrap > label {\n",
       "  grid-column: 1;\n",
       "  vertical-align: top;\n",
       "}\n",
       "\n",
       ".xr-preview {\n",
       "  color: var(--xr-font-color3);\n",
       "}\n",
       "\n",
       ".xr-array-preview,\n",
       ".xr-array-data {\n",
       "  padding: 0 5px !important;\n",
       "  grid-column: 2;\n",
       "}\n",
       "\n",
       ".xr-array-data,\n",
       ".xr-array-in:checked ~ .xr-array-preview {\n",
       "  display: none;\n",
       "}\n",
       "\n",
       ".xr-array-in:checked ~ .xr-array-data,\n",
       ".xr-array-preview {\n",
       "  display: inline-block;\n",
       "}\n",
       "\n",
       ".xr-dim-list {\n",
       "  display: inline-block !important;\n",
       "  list-style: none;\n",
       "  padding: 0 !important;\n",
       "  margin: 0;\n",
       "}\n",
       "\n",
       ".xr-dim-list li {\n",
       "  display: inline-block;\n",
       "  padding: 0;\n",
       "  margin: 0;\n",
       "}\n",
       "\n",
       ".xr-dim-list:before {\n",
       "  content: '(';\n",
       "}\n",
       "\n",
       ".xr-dim-list:after {\n",
       "  content: ')';\n",
       "}\n",
       "\n",
       ".xr-dim-list li:not(:last-child):after {\n",
       "  content: ',';\n",
       "  padding-right: 5px;\n",
       "}\n",
       "\n",
       ".xr-has-index {\n",
       "  font-weight: bold;\n",
       "}\n",
       "\n",
       ".xr-var-list,\n",
       ".xr-var-item {\n",
       "  display: contents;\n",
       "}\n",
       "\n",
       ".xr-var-item > div,\n",
       ".xr-var-item label,\n",
       ".xr-var-item > .xr-var-name span {\n",
       "  background-color: var(--xr-background-color-row-even);\n",
       "  margin-bottom: 0;\n",
       "}\n",
       "\n",
       ".xr-var-item > .xr-var-name:hover span {\n",
       "  padding-right: 5px;\n",
       "}\n",
       "\n",
       ".xr-var-list > li:nth-child(odd) > div,\n",
       ".xr-var-list > li:nth-child(odd) > label,\n",
       ".xr-var-list > li:nth-child(odd) > .xr-var-name span {\n",
       "  background-color: var(--xr-background-color-row-odd);\n",
       "}\n",
       "\n",
       ".xr-var-name {\n",
       "  grid-column: 1;\n",
       "}\n",
       "\n",
       ".xr-var-dims {\n",
       "  grid-column: 2;\n",
       "}\n",
       "\n",
       ".xr-var-dtype {\n",
       "  grid-column: 3;\n",
       "  text-align: right;\n",
       "  color: var(--xr-font-color2);\n",
       "}\n",
       "\n",
       ".xr-var-preview {\n",
       "  grid-column: 4;\n",
       "}\n",
       "\n",
       ".xr-index-preview {\n",
       "  grid-column: 2 / 5;\n",
       "  color: var(--xr-font-color2);\n",
       "}\n",
       "\n",
       ".xr-var-name,\n",
       ".xr-var-dims,\n",
       ".xr-var-dtype,\n",
       ".xr-preview,\n",
       ".xr-attrs dt {\n",
       "  white-space: nowrap;\n",
       "  overflow: hidden;\n",
       "  text-overflow: ellipsis;\n",
       "  padding-right: 10px;\n",
       "}\n",
       "\n",
       ".xr-var-name:hover,\n",
       ".xr-var-dims:hover,\n",
       ".xr-var-dtype:hover,\n",
       ".xr-attrs dt:hover {\n",
       "  overflow: visible;\n",
       "  width: auto;\n",
       "  z-index: 1;\n",
       "}\n",
       "\n",
       ".xr-var-attrs,\n",
       ".xr-var-data,\n",
       ".xr-index-data {\n",
       "  display: none;\n",
       "  background-color: var(--xr-background-color) !important;\n",
       "  padding-bottom: 5px !important;\n",
       "}\n",
       "\n",
       ".xr-var-attrs-in:checked ~ .xr-var-attrs,\n",
       ".xr-var-data-in:checked ~ .xr-var-data,\n",
       ".xr-index-data-in:checked ~ .xr-index-data {\n",
       "  display: block;\n",
       "}\n",
       "\n",
       ".xr-var-data > table {\n",
       "  float: right;\n",
       "}\n",
       "\n",
       ".xr-var-name span,\n",
       ".xr-var-data,\n",
       ".xr-index-name div,\n",
       ".xr-index-data,\n",
       ".xr-attrs {\n",
       "  padding-left: 25px !important;\n",
       "}\n",
       "\n",
       ".xr-attrs,\n",
       ".xr-var-attrs,\n",
       ".xr-var-data,\n",
       ".xr-index-data {\n",
       "  grid-column: 1 / -1;\n",
       "}\n",
       "\n",
       "dl.xr-attrs {\n",
       "  padding: 0;\n",
       "  margin: 0;\n",
       "  display: grid;\n",
       "  grid-template-columns: 125px auto;\n",
       "}\n",
       "\n",
       ".xr-attrs dt,\n",
       ".xr-attrs dd {\n",
       "  padding: 0;\n",
       "  margin: 0;\n",
       "  float: left;\n",
       "  padding-right: 10px;\n",
       "  width: auto;\n",
       "}\n",
       "\n",
       ".xr-attrs dt {\n",
       "  font-weight: normal;\n",
       "  grid-column: 1;\n",
       "}\n",
       "\n",
       ".xr-attrs dt:hover span {\n",
       "  display: inline-block;\n",
       "  background: var(--xr-background-color);\n",
       "  padding-right: 10px;\n",
       "}\n",
       "\n",
       ".xr-attrs dd {\n",
       "  grid-column: 2;\n",
       "  white-space: pre-wrap;\n",
       "  word-break: break-all;\n",
       "}\n",
       "\n",
       ".xr-icon-database,\n",
       ".xr-icon-file-text2,\n",
       ".xr-no-icon {\n",
       "  display: inline-block;\n",
       "  vertical-align: middle;\n",
       "  width: 1em;\n",
       "  height: 1.5em !important;\n",
       "  stroke-width: 0;\n",
       "  stroke: currentColor;\n",
       "  fill: currentColor;\n",
       "}\n",
       "</style><pre class='xr-text-repr-fallback'>&lt;xarray.Dataset&gt;\n",
       "Dimensions:  (time: 69, lon: 384, lat: 320)\n",
       "Coordinates:\n",
       "  * time     (time) datetime64[ns] 1980-01-01 ... 1980-01-03T20:00:00\n",
       "  * lon      (lon) float64 -180.0 -179.1 -178.1 -177.2 ... 178.1 179.1 180.0\n",
       "  * lat      (lat) float64 -90.0 -89.44 -88.87 -88.31 ... 88.31 88.87 89.44 90.0\n",
       "Data variables:\n",
       "    sst      (time, lon, lat) float64 dask.array&lt;chunksize=(18, 384, 320), meta=np.ndarray&gt;\n",
       "Attributes:\n",
       "    history:  created for compute benchmarking</pre><div class='xr-wrap' style='display:none'><div class='xr-header'><div class='xr-obj-type'>xarray.Dataset</div></div><ul class='xr-sections'><li class='xr-section-item'><input id='section-12444f67-1e37-4ba3-9a7b-a40c533d91b3' class='xr-section-summary-in' type='checkbox' disabled ><label for='section-12444f67-1e37-4ba3-9a7b-a40c533d91b3' class='xr-section-summary'  title='Expand/collapse section'>Dimensions:</label><div class='xr-section-inline-details'><ul class='xr-dim-list'><li><span class='xr-has-index'>time</span>: 69</li><li><span class='xr-has-index'>lon</span>: 384</li><li><span class='xr-has-index'>lat</span>: 320</li></ul></div><div class='xr-section-details'></div></li><li class='xr-section-item'><input id='section-2b7acf5a-e58b-460f-a5ed-11a7e8394654' class='xr-section-summary-in' type='checkbox'  checked><label for='section-2b7acf5a-e58b-460f-a5ed-11a7e8394654' class='xr-section-summary' >Coordinates: <span>(3)</span></label><div class='xr-section-inline-details'></div><div class='xr-section-details'><ul class='xr-var-list'><li class='xr-var-item'><div class='xr-var-name'><span class='xr-has-index'>time</span></div><div class='xr-var-dims'>(time)</div><div class='xr-var-dtype'>datetime64[ns]</div><div class='xr-var-preview xr-preview'>1980-01-01 ... 1980-01-03T20:00:00</div><input id='attrs-14a7a55e-d348-4c52-97a7-61c3e750bf28' class='xr-var-attrs-in' type='checkbox' disabled><label for='attrs-14a7a55e-d348-4c52-97a7-61c3e750bf28' title='Show/Hide attributes'><svg class='icon xr-icon-file-text2'><use xlink:href='#icon-file-text2'></use></svg></label><input id='data-92eb56ad-ebd5-47cf-a237-8cc6fb075819' class='xr-var-data-in' type='checkbox'><label for='data-92eb56ad-ebd5-47cf-a237-8cc6fb075819' title='Show/Hide data repr'><svg class='icon xr-icon-database'><use xlink:href='#icon-database'></use></svg></label><div class='xr-var-attrs'><dl class='xr-attrs'></dl></div><div class='xr-var-data'><pre>array([&#x27;1980-01-01T00:00:00.000000000&#x27;, &#x27;1980-01-01T01:00:00.000000000&#x27;,\n",
       "       &#x27;1980-01-01T02:00:00.000000000&#x27;, &#x27;1980-01-01T03:00:00.000000000&#x27;,\n",
       "       &#x27;1980-01-01T04:00:00.000000000&#x27;, &#x27;1980-01-01T05:00:00.000000000&#x27;,\n",
       "       &#x27;1980-01-01T06:00:00.000000000&#x27;, &#x27;1980-01-01T07:00:00.000000000&#x27;,\n",
       "       &#x27;1980-01-01T08:00:00.000000000&#x27;, &#x27;1980-01-01T09:00:00.000000000&#x27;,\n",
       "       &#x27;1980-01-01T10:00:00.000000000&#x27;, &#x27;1980-01-01T11:00:00.000000000&#x27;,\n",
       "       &#x27;1980-01-01T12:00:00.000000000&#x27;, &#x27;1980-01-01T13:00:00.000000000&#x27;,\n",
       "       &#x27;1980-01-01T14:00:00.000000000&#x27;, &#x27;1980-01-01T15:00:00.000000000&#x27;,\n",
       "       &#x27;1980-01-01T16:00:00.000000000&#x27;, &#x27;1980-01-01T17:00:00.000000000&#x27;,\n",
       "       &#x27;1980-01-01T18:00:00.000000000&#x27;, &#x27;1980-01-01T19:00:00.000000000&#x27;,\n",
       "       &#x27;1980-01-01T20:00:00.000000000&#x27;, &#x27;1980-01-01T21:00:00.000000000&#x27;,\n",
       "       &#x27;1980-01-01T22:00:00.000000000&#x27;, &#x27;1980-01-01T23:00:00.000000000&#x27;,\n",
       "       &#x27;1980-01-02T00:00:00.000000000&#x27;, &#x27;1980-01-02T01:00:00.000000000&#x27;,\n",
       "       &#x27;1980-01-02T02:00:00.000000000&#x27;, &#x27;1980-01-02T03:00:00.000000000&#x27;,\n",
       "       &#x27;1980-01-02T04:00:00.000000000&#x27;, &#x27;1980-01-02T05:00:00.000000000&#x27;,\n",
       "       &#x27;1980-01-02T06:00:00.000000000&#x27;, &#x27;1980-01-02T07:00:00.000000000&#x27;,\n",
       "       &#x27;1980-01-02T08:00:00.000000000&#x27;, &#x27;1980-01-02T09:00:00.000000000&#x27;,\n",
       "       &#x27;1980-01-02T10:00:00.000000000&#x27;, &#x27;1980-01-02T11:00:00.000000000&#x27;,\n",
       "       &#x27;1980-01-02T12:00:00.000000000&#x27;, &#x27;1980-01-02T13:00:00.000000000&#x27;,\n",
       "       &#x27;1980-01-02T14:00:00.000000000&#x27;, &#x27;1980-01-02T15:00:00.000000000&#x27;,\n",
       "       &#x27;1980-01-02T16:00:00.000000000&#x27;, &#x27;1980-01-02T17:00:00.000000000&#x27;,\n",
       "       &#x27;1980-01-02T18:00:00.000000000&#x27;, &#x27;1980-01-02T19:00:00.000000000&#x27;,\n",
       "       &#x27;1980-01-02T20:00:00.000000000&#x27;, &#x27;1980-01-02T21:00:00.000000000&#x27;,\n",
       "       &#x27;1980-01-02T22:00:00.000000000&#x27;, &#x27;1980-01-02T23:00:00.000000000&#x27;,\n",
       "       &#x27;1980-01-03T00:00:00.000000000&#x27;, &#x27;1980-01-03T01:00:00.000000000&#x27;,\n",
       "       &#x27;1980-01-03T02:00:00.000000000&#x27;, &#x27;1980-01-03T03:00:00.000000000&#x27;,\n",
       "       &#x27;1980-01-03T04:00:00.000000000&#x27;, &#x27;1980-01-03T05:00:00.000000000&#x27;,\n",
       "       &#x27;1980-01-03T06:00:00.000000000&#x27;, &#x27;1980-01-03T07:00:00.000000000&#x27;,\n",
       "       &#x27;1980-01-03T08:00:00.000000000&#x27;, &#x27;1980-01-03T09:00:00.000000000&#x27;,\n",
       "       &#x27;1980-01-03T10:00:00.000000000&#x27;, &#x27;1980-01-03T11:00:00.000000000&#x27;,\n",
       "       &#x27;1980-01-03T12:00:00.000000000&#x27;, &#x27;1980-01-03T13:00:00.000000000&#x27;,\n",
       "       &#x27;1980-01-03T14:00:00.000000000&#x27;, &#x27;1980-01-03T15:00:00.000000000&#x27;,\n",
       "       &#x27;1980-01-03T16:00:00.000000000&#x27;, &#x27;1980-01-03T17:00:00.000000000&#x27;,\n",
       "       &#x27;1980-01-03T18:00:00.000000000&#x27;, &#x27;1980-01-03T19:00:00.000000000&#x27;,\n",
       "       &#x27;1980-01-03T20:00:00.000000000&#x27;], dtype=&#x27;datetime64[ns]&#x27;)</pre></div></li><li class='xr-var-item'><div class='xr-var-name'><span class='xr-has-index'>lon</span></div><div class='xr-var-dims'>(lon)</div><div class='xr-var-dtype'>float64</div><div class='xr-var-preview xr-preview'>-180.0 -179.1 ... 179.1 180.0</div><input id='attrs-ecf36915-f70c-40c6-bf1a-fe9957bde20d' class='xr-var-attrs-in' type='checkbox' disabled><label for='attrs-ecf36915-f70c-40c6-bf1a-fe9957bde20d' title='Show/Hide attributes'><svg class='icon xr-icon-file-text2'><use xlink:href='#icon-file-text2'></use></svg></label><input id='data-ce13f2da-1d22-4a6e-bd23-a65350a068c5' class='xr-var-data-in' type='checkbox'><label for='data-ce13f2da-1d22-4a6e-bd23-a65350a068c5' title='Show/Hide data repr'><svg class='icon xr-icon-database'><use xlink:href='#icon-database'></use></svg></label><div class='xr-var-attrs'><dl class='xr-attrs'></dl></div><div class='xr-var-data'><pre>array([-180.      , -179.060052, -178.120104, ...,  178.120104,  179.060052,\n",
       "        180.      ])</pre></div></li><li class='xr-var-item'><div class='xr-var-name'><span class='xr-has-index'>lat</span></div><div class='xr-var-dims'>(lat)</div><div class='xr-var-dtype'>float64</div><div class='xr-var-preview xr-preview'>-90.0 -89.44 -88.87 ... 89.44 90.0</div><input id='attrs-473f9951-1f54-42eb-9754-ee3c144e8390' class='xr-var-attrs-in' type='checkbox' disabled><label for='attrs-473f9951-1f54-42eb-9754-ee3c144e8390' title='Show/Hide attributes'><svg class='icon xr-icon-file-text2'><use xlink:href='#icon-file-text2'></use></svg></label><input id='data-6a02ff4e-6df9-45f2-8ba1-7d636493efa5' class='xr-var-data-in' type='checkbox'><label for='data-6a02ff4e-6df9-45f2-8ba1-7d636493efa5' title='Show/Hide data repr'><svg class='icon xr-icon-database'><use xlink:href='#icon-database'></use></svg></label><div class='xr-var-attrs'><dl class='xr-attrs'></dl></div><div class='xr-var-data'><pre>array([-90.      , -89.435737, -88.871473, ...,  88.871473,  89.435737,\n",
       "        90.      ])</pre></div></li></ul></div></li><li class='xr-section-item'><input id='section-6f8632dd-7bca-4679-ab2f-93a2c1677446' class='xr-section-summary-in' type='checkbox'  checked><label for='section-6f8632dd-7bca-4679-ab2f-93a2c1677446' class='xr-section-summary' >Data variables: <span>(1)</span></label><div class='xr-section-inline-details'></div><div class='xr-section-details'><ul class='xr-var-list'><li class='xr-var-item'><div class='xr-var-name'><span>sst</span></div><div class='xr-var-dims'>(time, lon, lat)</div><div class='xr-var-dtype'>float64</div><div class='xr-var-preview xr-preview'>dask.array&lt;chunksize=(18, 384, 320), meta=np.ndarray&gt;</div><input id='attrs-7111341e-001e-42d9-8d7d-f5d32bea5831' class='xr-var-attrs-in' type='checkbox' ><label for='attrs-7111341e-001e-42d9-8d7d-f5d32bea5831' title='Show/Hide attributes'><svg class='icon xr-icon-file-text2'><use xlink:href='#icon-file-text2'></use></svg></label><input id='data-7bd86a1f-4195-4894-869b-2fe7b923908e' class='xr-var-data-in' type='checkbox'><label for='data-7bd86a1f-4195-4894-869b-2fe7b923908e' title='Show/Hide data repr'><svg class='icon xr-icon-database'><use xlink:href='#icon-database'></use></svg></label><div class='xr-var-attrs'><dl class='xr-attrs'><dt><span>units :</span></dt><dd>baz units</dd><dt><span>description :</span></dt><dd>a description</dd></dl></div><div class='xr-var-data'><table>\n",
       "    <tr>\n",
       "        <td>\n",
       "            <table style=\"border-collapse: collapse;\">\n",
       "                <thead>\n",
       "                    <tr>\n",
       "                        <td> </td>\n",
       "                        <th> Array </th>\n",
       "                        <th> Chunk </th>\n",
       "                    </tr>\n",
       "                </thead>\n",
       "                <tbody>\n",
       "                    \n",
       "                    <tr>\n",
       "                        <th> Bytes </th>\n",
       "                        <td> 64.69 MiB </td>\n",
       "                        <td> 16.88 MiB </td>\n",
       "                    </tr>\n",
       "                    \n",
       "                    <tr>\n",
       "                        <th> Shape </th>\n",
       "                        <td> (69, 384, 320) </td>\n",
       "                        <td> (18, 384, 320) </td>\n",
       "                    </tr>\n",
       "                    <tr>\n",
       "                        <th> Dask graph </th>\n",
       "                        <td colspan=\"2\"> 4 chunks in 3 graph layers </td>\n",
       "                    </tr>\n",
       "                    <tr>\n",
       "                        <th> Data type </th>\n",
       "                        <td colspan=\"2\"> float64 numpy.ndarray </td>\n",
       "                    </tr>\n",
       "                </tbody>\n",
       "            </table>\n",
       "        </td>\n",
       "        <td>\n",
       "        <svg width=\"184\" height=\"194\" style=\"stroke:rgb(0,0,0);stroke-width:1\" >\n",
       "\n",
       "  <!-- Horizontal lines -->\n",
       "  <line x1=\"10\" y1=\"0\" x2=\"34\" y2=\"24\" style=\"stroke-width:2\" />\n",
       "  <line x1=\"10\" y1=\"120\" x2=\"34\" y2=\"144\" style=\"stroke-width:2\" />\n",
       "\n",
       "  <!-- Vertical lines -->\n",
       "  <line x1=\"10\" y1=\"0\" x2=\"10\" y2=\"120\" style=\"stroke-width:2\" />\n",
       "  <line x1=\"16\" y1=\"6\" x2=\"16\" y2=\"126\" />\n",
       "  <line x1=\"22\" y1=\"12\" x2=\"22\" y2=\"132\" />\n",
       "  <line x1=\"29\" y1=\"19\" x2=\"29\" y2=\"139\" />\n",
       "  <line x1=\"34\" y1=\"24\" x2=\"34\" y2=\"144\" style=\"stroke-width:2\" />\n",
       "\n",
       "  <!-- Colored Rectangle -->\n",
       "  <polygon points=\"10.0,0.0 34.43820742985945,24.438207429859453 34.43820742985945,144.43820742985946 10.0,120.0\" style=\"fill:#ECB172A0;stroke-width:0\"/>\n",
       "\n",
       "  <!-- Horizontal lines -->\n",
       "  <line x1=\"10\" y1=\"0\" x2=\"110\" y2=\"0\" style=\"stroke-width:2\" />\n",
       "  <line x1=\"16\" y1=\"6\" x2=\"116\" y2=\"6\" />\n",
       "  <line x1=\"22\" y1=\"12\" x2=\"122\" y2=\"12\" />\n",
       "  <line x1=\"29\" y1=\"19\" x2=\"129\" y2=\"19\" />\n",
       "  <line x1=\"34\" y1=\"24\" x2=\"134\" y2=\"24\" style=\"stroke-width:2\" />\n",
       "\n",
       "  <!-- Vertical lines -->\n",
       "  <line x1=\"10\" y1=\"0\" x2=\"34\" y2=\"24\" style=\"stroke-width:2\" />\n",
       "  <line x1=\"110\" y1=\"0\" x2=\"134\" y2=\"24\" style=\"stroke-width:2\" />\n",
       "\n",
       "  <!-- Colored Rectangle -->\n",
       "  <polygon points=\"10.0,0.0 110.0,0.0 134.43820742985946,24.438207429859453 34.43820742985945,24.438207429859453\" style=\"fill:#ECB172A0;stroke-width:0\"/>\n",
       "\n",
       "  <!-- Horizontal lines -->\n",
       "  <line x1=\"34\" y1=\"24\" x2=\"134\" y2=\"24\" style=\"stroke-width:2\" />\n",
       "  <line x1=\"34\" y1=\"144\" x2=\"134\" y2=\"144\" style=\"stroke-width:2\" />\n",
       "\n",
       "  <!-- Vertical lines -->\n",
       "  <line x1=\"34\" y1=\"24\" x2=\"34\" y2=\"144\" style=\"stroke-width:2\" />\n",
       "  <line x1=\"134\" y1=\"24\" x2=\"134\" y2=\"144\" style=\"stroke-width:2\" />\n",
       "\n",
       "  <!-- Colored Rectangle -->\n",
       "  <polygon points=\"34.43820742985945,24.438207429859453 134.43820742985946,24.438207429859453 134.43820742985946,144.43820742985946 34.43820742985945,144.43820742985946\" style=\"fill:#ECB172A0;stroke-width:0\"/>\n",
       "\n",
       "  <!-- Text -->\n",
       "  <text x=\"84.438207\" y=\"164.438207\" font-size=\"1.0rem\" font-weight=\"100\" text-anchor=\"middle\" >320</text>\n",
       "  <text x=\"154.438207\" y=\"84.438207\" font-size=\"1.0rem\" font-weight=\"100\" text-anchor=\"middle\" transform=\"rotate(-90,154.438207,84.438207)\">384</text>\n",
       "  <text x=\"12.219104\" y=\"152.219104\" font-size=\"1.0rem\" font-weight=\"100\" text-anchor=\"middle\" transform=\"rotate(45,12.219104,152.219104)\">69</text>\n",
       "</svg>\n",
       "        </td>\n",
       "    </tr>\n",
       "</table></div></li></ul></div></li><li class='xr-section-item'><input id='section-e69d53e2-9fc3-4a3b-bf66-5a0744c543af' class='xr-section-summary-in' type='checkbox'  ><label for='section-e69d53e2-9fc3-4a3b-bf66-5a0744c543af' class='xr-section-summary' >Indexes: <span>(3)</span></label><div class='xr-section-inline-details'></div><div class='xr-section-details'><ul class='xr-var-list'><li class='xr-var-item'><div class='xr-index-name'><div>time</div></div><div class='xr-index-preview'>PandasIndex</div><div></div><input id='index-519dc3f4-5ba4-4efc-993b-b3af8b192d21' class='xr-index-data-in' type='checkbox'/><label for='index-519dc3f4-5ba4-4efc-993b-b3af8b192d21' title='Show/Hide index repr'><svg class='icon xr-icon-database'><use xlink:href='#icon-database'></use></svg></label><div class='xr-index-data'><pre>PandasIndex(DatetimeIndex([&#x27;1980-01-01 00:00:00&#x27;, &#x27;1980-01-01 01:00:00&#x27;,\n",
       "               &#x27;1980-01-01 02:00:00&#x27;, &#x27;1980-01-01 03:00:00&#x27;,\n",
       "               &#x27;1980-01-01 04:00:00&#x27;, &#x27;1980-01-01 05:00:00&#x27;,\n",
       "               &#x27;1980-01-01 06:00:00&#x27;, &#x27;1980-01-01 07:00:00&#x27;,\n",
       "               &#x27;1980-01-01 08:00:00&#x27;, &#x27;1980-01-01 09:00:00&#x27;,\n",
       "               &#x27;1980-01-01 10:00:00&#x27;, &#x27;1980-01-01 11:00:00&#x27;,\n",
       "               &#x27;1980-01-01 12:00:00&#x27;, &#x27;1980-01-01 13:00:00&#x27;,\n",
       "               &#x27;1980-01-01 14:00:00&#x27;, &#x27;1980-01-01 15:00:00&#x27;,\n",
       "               &#x27;1980-01-01 16:00:00&#x27;, &#x27;1980-01-01 17:00:00&#x27;,\n",
       "               &#x27;1980-01-01 18:00:00&#x27;, &#x27;1980-01-01 19:00:00&#x27;,\n",
       "               &#x27;1980-01-01 20:00:00&#x27;, &#x27;1980-01-01 21:00:00&#x27;,\n",
       "               &#x27;1980-01-01 22:00:00&#x27;, &#x27;1980-01-01 23:00:00&#x27;,\n",
       "               &#x27;1980-01-02 00:00:00&#x27;, &#x27;1980-01-02 01:00:00&#x27;,\n",
       "               &#x27;1980-01-02 02:00:00&#x27;, &#x27;1980-01-02 03:00:00&#x27;,\n",
       "               &#x27;1980-01-02 04:00:00&#x27;, &#x27;1980-01-02 05:00:00&#x27;,\n",
       "               &#x27;1980-01-02 06:00:00&#x27;, &#x27;1980-01-02 07:00:00&#x27;,\n",
       "               &#x27;1980-01-02 08:00:00&#x27;, &#x27;1980-01-02 09:00:00&#x27;,\n",
       "               &#x27;1980-01-02 10:00:00&#x27;, &#x27;1980-01-02 11:00:00&#x27;,\n",
       "               &#x27;1980-01-02 12:00:00&#x27;, &#x27;1980-01-02 13:00:00&#x27;,\n",
       "               &#x27;1980-01-02 14:00:00&#x27;, &#x27;1980-01-02 15:00:00&#x27;,\n",
       "               &#x27;1980-01-02 16:00:00&#x27;, &#x27;1980-01-02 17:00:00&#x27;,\n",
       "               &#x27;1980-01-02 18:00:00&#x27;, &#x27;1980-01-02 19:00:00&#x27;,\n",
       "               &#x27;1980-01-02 20:00:00&#x27;, &#x27;1980-01-02 21:00:00&#x27;,\n",
       "               &#x27;1980-01-02 22:00:00&#x27;, &#x27;1980-01-02 23:00:00&#x27;,\n",
       "               &#x27;1980-01-03 00:00:00&#x27;, &#x27;1980-01-03 01:00:00&#x27;,\n",
       "               &#x27;1980-01-03 02:00:00&#x27;, &#x27;1980-01-03 03:00:00&#x27;,\n",
       "               &#x27;1980-01-03 04:00:00&#x27;, &#x27;1980-01-03 05:00:00&#x27;,\n",
       "               &#x27;1980-01-03 06:00:00&#x27;, &#x27;1980-01-03 07:00:00&#x27;,\n",
       "               &#x27;1980-01-03 08:00:00&#x27;, &#x27;1980-01-03 09:00:00&#x27;,\n",
       "               &#x27;1980-01-03 10:00:00&#x27;, &#x27;1980-01-03 11:00:00&#x27;,\n",
       "               &#x27;1980-01-03 12:00:00&#x27;, &#x27;1980-01-03 13:00:00&#x27;,\n",
       "               &#x27;1980-01-03 14:00:00&#x27;, &#x27;1980-01-03 15:00:00&#x27;,\n",
       "               &#x27;1980-01-03 16:00:00&#x27;, &#x27;1980-01-03 17:00:00&#x27;,\n",
       "               &#x27;1980-01-03 18:00:00&#x27;, &#x27;1980-01-03 19:00:00&#x27;,\n",
       "               &#x27;1980-01-03 20:00:00&#x27;],\n",
       "              dtype=&#x27;datetime64[ns]&#x27;, name=&#x27;time&#x27;, freq=&#x27;H&#x27;))</pre></div></li><li class='xr-var-item'><div class='xr-index-name'><div>lon</div></div><div class='xr-index-preview'>PandasIndex</div><div></div><input id='index-ef8c43fa-e5a2-463f-8926-d23c919193d7' class='xr-index-data-in' type='checkbox'/><label for='index-ef8c43fa-e5a2-463f-8926-d23c919193d7' title='Show/Hide index repr'><svg class='icon xr-icon-database'><use xlink:href='#icon-database'></use></svg></label><div class='xr-index-data'><pre>PandasIndex(Float64Index([             -180.0, -179.06005221932114,  -178.1201044386423,\n",
       "              -177.18015665796344,  -176.2402088772846, -175.30026109660574,\n",
       "               -174.3603133159269, -173.42036553524804,  -172.4804177545692,\n",
       "              -171.54046997389034,\n",
       "              ...\n",
       "               171.54046997389037,   172.4804177545692,  173.42036553524804,\n",
       "               174.36031331592693,  175.30026109660577,   176.2402088772846,\n",
       "               177.18015665796344,  178.12010443864233,  179.06005221932116,\n",
       "                            180.0],\n",
       "             dtype=&#x27;float64&#x27;, name=&#x27;lon&#x27;, length=384))</pre></div></li><li class='xr-var-item'><div class='xr-index-name'><div>lat</div></div><div class='xr-index-preview'>PandasIndex</div><div></div><input id='index-02f5570a-859c-4f22-8a37-455c1292819a' class='xr-index-data-in' type='checkbox'/><label for='index-02f5570a-859c-4f22-8a37-455c1292819a' title='Show/Hide index repr'><svg class='icon xr-icon-database'><use xlink:href='#icon-database'></use></svg></label><div class='xr-index-data'><pre>PandasIndex(Float64Index([             -90.0, -89.43573667711598, -88.87147335423198,\n",
       "              -88.30721003134796, -87.74294670846395, -87.17868338557994,\n",
       "              -86.61442006269593, -86.05015673981191,  -85.4858934169279,\n",
       "              -84.92163009404389,\n",
       "              ...\n",
       "               84.92163009404388,   85.4858934169279,  86.05015673981188,\n",
       "                86.6144200626959,  87.17868338557992,  87.74294670846393,\n",
       "               88.30721003134795,  88.87147335423197,  89.43573667711598,\n",
       "                            90.0],\n",
       "             dtype=&#x27;float64&#x27;, name=&#x27;lat&#x27;, length=320))</pre></div></li></ul></div></li><li class='xr-section-item'><input id='section-7ab438b2-5540-47c2-8b8f-90a7e34e8566' class='xr-section-summary-in' type='checkbox'  checked><label for='section-7ab438b2-5540-47c2-8b8f-90a7e34e8566' class='xr-section-summary' >Attributes: <span>(1)</span></label><div class='xr-section-inline-details'></div><div class='xr-section-details'><dl class='xr-attrs'><dt><span>history :</span></dt><dd>created for compute benchmarking</dd></dl></div></li></ul></div></div>"
      ],
      "text/plain": [
       "<xarray.Dataset>\n",
       "Dimensions:  (time: 69, lon: 384, lat: 320)\n",
       "Coordinates:\n",
       "  * time     (time) datetime64[ns] 1980-01-01 ... 1980-01-03T20:00:00\n",
       "  * lon      (lon) float64 -180.0 -179.1 -178.1 -177.2 ... 178.1 179.1 180.0\n",
       "  * lat      (lat) float64 -90.0 -89.44 -88.87 -88.31 ... 88.31 88.87 89.44 90.0\n",
       "Data variables:\n",
       "    sst      (time, lon, lat) float64 dask.array<chunksize=(18, 384, 320), meta=np.ndarray>\n",
       "Attributes:\n",
       "    history:  created for compute benchmarking"
      ]
     },
     "execution_count": 9,
     "metadata": {},
     "output_type": "execute_result"
    }
   ],
   "source": [
    "ds = timeseries(chunk_size='16 MiB', chunking_scheme='temporal', chunk_per_worker=1, num_nodes=1)\n",
    "ds"
   ]
  },
  {
   "cell_type": "code",
   "execution_count": 10,
   "id": "6a4608cf-480d-4ac3-96c3-7f997b25a253",
   "metadata": {
    "tags": []
   },
   "outputs": [],
   "source": [
    "store_s3 = s3fs.S3Map(root=s3_bucket + 'xarray-demo-dask-s3',\n",
    "                   s3=s3,\n",
    "                   check=False)\n",
    "store_s3.clear()"
   ]
  },
  {
   "cell_type": "code",
   "execution_count": 11,
   "id": "ef1bf3a7-f95f-4688-8273-898defe36e2e",
   "metadata": {
    "tags": []
   },
   "outputs": [
    {
     "name": "stdout",
     "output_type": "stream",
     "text": [
      "CPU times: user 980 ms, sys: 147 ms, total: 1.13 s\n",
      "Wall time: 1.49 s\n"
     ]
    },
    {
     "data": {
      "text/plain": [
       "<xarray.backends.zarr.ZarrStore at 0x7f89f27133e0>"
      ]
     },
     "execution_count": 11,
     "metadata": {},
     "output_type": "execute_result"
    }
   ],
   "source": [
    "%%time\n",
    "ds.to_zarr(store=store_s3, mode='w', consolidated=True)"
   ]
  },
  {
   "cell_type": "markdown",
   "id": "f601a971-585c-4305-8678-474095447a06",
   "metadata": {},
   "source": [
    "# Try some computation with dask-gateway"
   ]
  },
  {
   "cell_type": "code",
   "execution_count": 12,
   "id": "13b35228-608c-4fdf-aa14-d11f0883d60a",
   "metadata": {
    "tags": []
   },
   "outputs": [],
   "source": [
    "from dask_gateway import Gateway\n",
    "gateway = Gateway()"
   ]
  },
  {
   "cell_type": "code",
   "execution_count": 13,
   "id": "6fd079e4-71b2-4a0a-a048-2507933bd5e8",
   "metadata": {
    "tags": []
   },
   "outputs": [
    {
     "name": "stderr",
     "output_type": "stream",
     "text": [
      "/srv/conda/envs/notebook/lib/python3.10/site-packages/dask_gateway/client.py:675: GatewayWarning: Scale request of 6 workers would exceed resource limit of 4 workers. Scaling to 4 instead.\n",
      "  warnings.warn(GatewayWarning(msg[\"msg\"]))\n"
     ]
    },
    {
     "data": {
      "application/vnd.jupyter.widget-view+json": {
       "model_id": "35f7ee100ea042059292b131f4cf5108",
       "version_major": 2,
       "version_minor": 0
      },
      "text/plain": [
       "VBox(children=(HTML(value='<h2>GatewayCluster</h2>'), HBox(children=(HTML(value='\\n<div>\\n<style scoped>\\n    …"
      ]
     },
     "metadata": {},
     "output_type": "display_data"
    }
   ],
   "source": [
    "cluster = gateway.new_cluster(worker_memory=4)\n",
    "cluster.scale(6)\n",
    "cluster"
   ]
  },
  {
   "cell_type": "code",
   "execution_count": 14,
   "id": "90e9c26e-4cf6-482c-80e4-ebf69bd08564",
   "metadata": {
    "tags": []
   },
   "outputs": [
    {
     "data": {
      "text/html": [
       "<div>\n",
       "    <div style=\"width: 24px; height: 24px; background-color: #e1e1e1; border: 3px solid #9D9D9D; border-radius: 5px; position: absolute;\"> </div>\n",
       "    <div style=\"margin-left: 48px;\">\n",
       "        <h3 style=\"margin-bottom: 0px;\">Client</h3>\n",
       "        <p style=\"color: #9D9D9D; margin-bottom: 0px;\">Client-0bd0d001-bce0-11ed-8422-525e14160d85</p>\n",
       "        <table style=\"width: 100%; text-align: left;\">\n",
       "\n",
       "        <tr>\n",
       "        \n",
       "            <td style=\"text-align: left;\"><strong>Connection method:</strong> Cluster object</td>\n",
       "            <td style=\"text-align: left;\"><strong>Cluster type:</strong> dask_gateway.GatewayCluster</td>\n",
       "        \n",
       "        </tr>\n",
       "\n",
       "        \n",
       "            <tr>\n",
       "                <td style=\"text-align: left;\">\n",
       "                    <strong>Dashboard: </strong> <a href=\"/services/dask-gateway/clusters/c-scale-pangeo-dask.9b51f4a07ce2457397e089fabc31bdf8/status\" target=\"_blank\">/services/dask-gateway/clusters/c-scale-pangeo-dask.9b51f4a07ce2457397e089fabc31bdf8/status</a>\n",
       "                </td>\n",
       "                <td style=\"text-align: left;\"></td>\n",
       "            </tr>\n",
       "        \n",
       "\n",
       "        </table>\n",
       "\n",
       "        \n",
       "            <button style=\"margin-bottom: 12px;\" data-commandlinker-command=\"dask:populate-and-launch-layout\" data-commandlinker-args='{\"url\": \"/services/dask-gateway/clusters/c-scale-pangeo-dask.9b51f4a07ce2457397e089fabc31bdf8/status\" }'>\n",
       "                Launch dashboard in JupyterLab\n",
       "            </button>\n",
       "        \n",
       "\n",
       "        \n",
       "            <details>\n",
       "            <summary style=\"margin-bottom: 20px;\"><h3 style=\"display: inline;\">Cluster Info</h3></summary>\n",
       "            <div style='background-color: #f2f2f2; display: inline-block; padding: 10px; border: 1px solid #999999;'>\n",
       "  <h3>GatewayCluster</h3>\n",
       "  <ul>\n",
       "    <li><b>Name: </b>c-scale-pangeo-dask.9b51f4a07ce2457397e089fabc31bdf8\n",
       "    <li><b>Dashboard: </b><a href='/services/dask-gateway/clusters/c-scale-pangeo-dask.9b51f4a07ce2457397e089fabc31bdf8/status' target='_blank'>/services/dask-gateway/clusters/c-scale-pangeo-dask.9b51f4a07ce2457397e089fabc31bdf8/status</a>\n",
       "  </ul>\n",
       "</div>\n",
       "\n",
       "            </details>\n",
       "        \n",
       "\n",
       "    </div>\n",
       "</div>"
      ],
      "text/plain": [
       "<Client: 'tls://10.42.114.215:8786' processes=4 threads=4, memory=16.00 GiB>"
      ]
     },
     "execution_count": 14,
     "metadata": {},
     "output_type": "execute_result"
    }
   ],
   "source": [
    "from dask.distributed import Client\n",
    "client = Client(cluster)\n",
    "client.wait_for_workers(4)\n",
    "client"
   ]
  },
  {
   "cell_type": "code",
   "execution_count": 15,
   "id": "eed6b684-41c3-4c52-b3f2-13a98f7fbe55",
   "metadata": {
    "tags": []
   },
   "outputs": [
    {
     "name": "stdout",
     "output_type": "stream",
     "text": [
      "pi ~= 3.1415624288\n"
     ]
    }
   ],
   "source": [
    "import dask.array as da\n",
    "\n",
    "sample = 10_000_000_000  # <- this is huge!\n",
    "xxyy = da.random.uniform(-1, 1, size=(2, sample))\n",
    "norm = da.linalg.norm(xxyy, axis=0)\n",
    "summ = da.sum(norm <= 1)\n",
    "insiders = summ.compute()\n",
    "pi = 4 * insiders / sample\n",
    "print(\"pi ~= {}\".format(pi))"
   ]
  },
  {
   "cell_type": "markdown",
   "id": "f98c3382-e079-41f7-9788-018c0f5d845a",
   "metadata": {},
   "source": [
    "# Try to write with distributed"
   ]
  },
  {
   "cell_type": "code",
   "execution_count": 16,
   "id": "3bdb9b59-c738-4978-8092-647d04559c44",
   "metadata": {
    "tags": []
   },
   "outputs": [],
   "source": [
    "store_s3 = s3fs.S3Map(root=s3_bucket + 'xarray-demo-dask-s3-distributed',\n",
    "                   s3=s3,\n",
    "                   check=False)\n",
    "store_s3.clear()"
   ]
  },
  {
   "cell_type": "code",
   "execution_count": 17,
   "id": "66af75d1-afdf-4e78-8793-4afc163fbc55",
   "metadata": {
    "tags": []
   },
   "outputs": [
    {
     "name": "stdout",
     "output_type": "stream",
     "text": [
      "CPU times: user 305 ms, sys: 31.9 ms, total: 337 ms\n",
      "Wall time: 1.57 s\n"
     ]
    },
    {
     "data": {
      "text/plain": [
       "<xarray.backends.zarr.ZarrStore at 0x7f89e82c46d0>"
      ]
     },
     "execution_count": 17,
     "metadata": {},
     "output_type": "execute_result"
    }
   ],
   "source": [
    "%%time\n",
    "ds.to_zarr(store=store_s3, mode='w', consolidated=True)"
   ]
  },
  {
   "cell_type": "markdown",
   "id": "eb562d78-fb41-4b78-abef-d01330e2fbe2",
   "metadata": {},
   "source": [
    "# Test issue https://github.com/pangeo-data/pangeo-eosc/issues/39"
   ]
  },
  {
   "cell_type": "code",
   "execution_count": 20,
   "id": "90eb9e4c-fd73-4d72-9e04-e213b2acc2e8",
   "metadata": {
    "tags": []
   },
   "outputs": [],
   "source": [
    "import xarray as xr\n",
    "import os\n",
    "ds = xr.tutorial.open_dataset(\"air_temperature.nc\").load()\n",
    "uri = f\"s3://{s3_bucket}/zarr-fsstore\"\n",
    "client_kwargs={'endpoint_url': 'https://daskminioapi.vm.fedcloud.eu/'}\n",
    "store = zarr.storage.FSStore(uri, client_kwargs=client_kwargs,key=access_key, secret=secret_key)\n",
    "store.clear()"
   ]
  },
  {
   "cell_type": "code",
   "execution_count": 21,
   "id": "fd5a0f54-aa10-4339-8698-7c15acc60479",
   "metadata": {
    "tags": []
   },
   "outputs": [
    {
     "name": "stderr",
     "output_type": "stream",
     "text": [
      "/srv/conda/envs/notebook/lib/python3.10/site-packages/xarray/core/dataset.py:2098: SerializationWarning: saving variable None with floating point data as an integer dtype without any _FillValue to use for NaNs\n",
      "  return to_zarr(  # type: ignore\n"
     ]
    },
    {
     "name": "stdout",
     "output_type": "stream",
     "text": [
      "CPU times: user 499 ms, sys: 31.1 ms, total: 530 ms\n",
      "Wall time: 972 ms\n"
     ]
    },
    {
     "data": {
      "text/plain": [
       "<xarray.backends.zarr.ZarrStore at 0x7f89e82c5770>"
      ]
     },
     "execution_count": 21,
     "metadata": {},
     "output_type": "execute_result"
    }
   ],
   "source": [
    "%%time \n",
    "ds.to_zarr(store)"
   ]
  },
  {
   "cell_type": "markdown",
   "id": "c37efa52-b823-4f6f-8504-f078199aaa2a",
   "metadata": {},
   "source": [
    "looks good"
   ]
  },
  {
   "cell_type": "markdown",
   "id": "d2ac7751-540e-48a1-9a69-8e01e7a19ccf",
   "metadata": {},
   "source": [
    "# Read from Muni catalog"
   ]
  },
  {
   "cell_type": "code",
   "execution_count": 6,
   "id": "3841ed01-aeee-4de4-8c1f-7d135c7486da",
   "metadata": {
    "tags": []
   },
   "outputs": [
    {
     "ename": "ValueError",
     "evalue": "Cannot specify both fs and storage_options",
     "output_type": "error",
     "traceback": [
      "\u001b[0;31m---------------------------------------------------------------------------\u001b[0m",
      "\u001b[0;31mValueError\u001b[0m                                Traceback (most recent call last)",
      "Cell \u001b[0;32mIn[6], line 2\u001b[0m\n\u001b[1;32m      1\u001b[0m catalogue\u001b[38;5;241m=\u001b[39m\u001b[38;5;124m\"\u001b[39m\u001b[38;5;124mhttps://object-store.cloud.muni.cz/swift/v1/foss4g-catalogue/c_gls_NDVI-LTS_1999-2019.json\u001b[39m\u001b[38;5;124m\"\u001b[39m\n\u001b[0;32m----> 2\u001b[0m LTS \u001b[38;5;241m=\u001b[39m \u001b[43mxr\u001b[49m\u001b[38;5;241;43m.\u001b[39;49m\u001b[43mopen_mfdataset\u001b[49m\u001b[43m(\u001b[49m\n\u001b[1;32m      3\u001b[0m \u001b[43m    \u001b[49m\u001b[38;5;124;43m\"\u001b[39;49m\u001b[38;5;124;43mreference://\u001b[39;49m\u001b[38;5;124;43m\"\u001b[39;49m\u001b[43m,\u001b[49m\u001b[43m \u001b[49m\u001b[43mengine\u001b[49m\u001b[38;5;241;43m=\u001b[39;49m\u001b[38;5;124;43m\"\u001b[39;49m\u001b[38;5;124;43mzarr\u001b[39;49m\u001b[38;5;124;43m\"\u001b[39;49m\u001b[43m,\u001b[49m\n\u001b[1;32m      4\u001b[0m \u001b[43m    \u001b[49m\u001b[43mbackend_kwargs\u001b[49m\u001b[38;5;241;43m=\u001b[39;49m\u001b[43m{\u001b[49m\n\u001b[1;32m      5\u001b[0m \u001b[43m        \u001b[49m\u001b[38;5;124;43m\"\u001b[39;49m\u001b[38;5;124;43mstorage_options\u001b[39;49m\u001b[38;5;124;43m\"\u001b[39;49m\u001b[43m:\u001b[49m\u001b[43m \u001b[49m\u001b[43m{\u001b[49m\n\u001b[1;32m      6\u001b[0m \u001b[43m            \u001b[49m\u001b[38;5;124;43m\"\u001b[39;49m\u001b[38;5;124;43mfo\u001b[39;49m\u001b[38;5;124;43m\"\u001b[39;49m\u001b[43m:\u001b[49m\u001b[43mcatalogue\u001b[49m\u001b[43m,\u001b[49m\n\u001b[1;32m      7\u001b[0m \u001b[43m            \u001b[49m\u001b[38;5;124;43m\"\u001b[39;49m\u001b[38;5;124;43mremote_protocol\u001b[39;49m\u001b[38;5;124;43m\"\u001b[39;49m\u001b[43m:\u001b[49m\u001b[43m \u001b[49m\u001b[38;5;124;43m\"\u001b[39;49m\u001b[38;5;124;43ms3\u001b[39;49m\u001b[38;5;124;43m\"\u001b[39;49m\u001b[43m,\u001b[49m\n\u001b[1;32m      8\u001b[0m \u001b[43m            \u001b[49m\u001b[38;5;124;43m\"\u001b[39;49m\u001b[38;5;124;43mremote_options\u001b[39;49m\u001b[38;5;124;43m\"\u001b[39;49m\u001b[43m:\u001b[49m\u001b[43m \u001b[49m\u001b[43m{\u001b[49m\u001b[38;5;124;43m\"\u001b[39;49m\u001b[38;5;124;43manon\u001b[39;49m\u001b[38;5;124;43m\"\u001b[39;49m\u001b[43m:\u001b[49m\u001b[43m \u001b[49m\u001b[38;5;28;43;01mTrue\u001b[39;49;00m\u001b[43m}\u001b[49m\n\u001b[1;32m      9\u001b[0m \u001b[43m        \u001b[49m\u001b[43m}\u001b[49m\u001b[43m,\u001b[49m\n\u001b[1;32m     10\u001b[0m \u001b[43m        \u001b[49m\u001b[38;5;124;43m\"\u001b[39;49m\u001b[38;5;124;43mconsolidated\u001b[39;49m\u001b[38;5;124;43m\"\u001b[39;49m\u001b[43m:\u001b[49m\u001b[43m \u001b[49m\u001b[38;5;28;43;01mFalse\u001b[39;49;00m\n\u001b[1;32m     11\u001b[0m \u001b[43m    \u001b[49m\u001b[43m}\u001b[49m\n\u001b[1;32m     12\u001b[0m \u001b[43m)\u001b[49m\n\u001b[1;32m     13\u001b[0m LTS\n",
      "File \u001b[0;32m/srv/conda/envs/notebook/lib/python3.10/site-packages/xarray/backends/api.py:983\u001b[0m, in \u001b[0;36mopen_mfdataset\u001b[0;34m(paths, chunks, concat_dim, compat, preprocess, engine, data_vars, coords, combine, parallel, join, attrs_file, combine_attrs, **kwargs)\u001b[0m\n\u001b[1;32m    980\u001b[0m     open_ \u001b[38;5;241m=\u001b[39m open_dataset\n\u001b[1;32m    981\u001b[0m     getattr_ \u001b[38;5;241m=\u001b[39m \u001b[38;5;28mgetattr\u001b[39m\n\u001b[0;32m--> 983\u001b[0m datasets \u001b[38;5;241m=\u001b[39m [open_(p, \u001b[38;5;241m*\u001b[39m\u001b[38;5;241m*\u001b[39mopen_kwargs) \u001b[38;5;28;01mfor\u001b[39;00m p \u001b[38;5;129;01min\u001b[39;00m paths]\n\u001b[1;32m    984\u001b[0m closers \u001b[38;5;241m=\u001b[39m [getattr_(ds, \u001b[38;5;124m\"\u001b[39m\u001b[38;5;124m_close\u001b[39m\u001b[38;5;124m\"\u001b[39m) \u001b[38;5;28;01mfor\u001b[39;00m ds \u001b[38;5;129;01min\u001b[39;00m datasets]\n\u001b[1;32m    985\u001b[0m \u001b[38;5;28;01mif\u001b[39;00m preprocess \u001b[38;5;129;01mis\u001b[39;00m \u001b[38;5;129;01mnot\u001b[39;00m \u001b[38;5;28;01mNone\u001b[39;00m:\n",
      "File \u001b[0;32m/srv/conda/envs/notebook/lib/python3.10/site-packages/xarray/backends/api.py:983\u001b[0m, in \u001b[0;36m<listcomp>\u001b[0;34m(.0)\u001b[0m\n\u001b[1;32m    980\u001b[0m     open_ \u001b[38;5;241m=\u001b[39m open_dataset\n\u001b[1;32m    981\u001b[0m     getattr_ \u001b[38;5;241m=\u001b[39m \u001b[38;5;28mgetattr\u001b[39m\n\u001b[0;32m--> 983\u001b[0m datasets \u001b[38;5;241m=\u001b[39m [\u001b[43mopen_\u001b[49m\u001b[43m(\u001b[49m\u001b[43mp\u001b[49m\u001b[43m,\u001b[49m\u001b[43m \u001b[49m\u001b[38;5;241;43m*\u001b[39;49m\u001b[38;5;241;43m*\u001b[39;49m\u001b[43mopen_kwargs\u001b[49m\u001b[43m)\u001b[49m \u001b[38;5;28;01mfor\u001b[39;00m p \u001b[38;5;129;01min\u001b[39;00m paths]\n\u001b[1;32m    984\u001b[0m closers \u001b[38;5;241m=\u001b[39m [getattr_(ds, \u001b[38;5;124m\"\u001b[39m\u001b[38;5;124m_close\u001b[39m\u001b[38;5;124m\"\u001b[39m) \u001b[38;5;28;01mfor\u001b[39;00m ds \u001b[38;5;129;01min\u001b[39;00m datasets]\n\u001b[1;32m    985\u001b[0m \u001b[38;5;28;01mif\u001b[39;00m preprocess \u001b[38;5;129;01mis\u001b[39;00m \u001b[38;5;129;01mnot\u001b[39;00m \u001b[38;5;28;01mNone\u001b[39;00m:\n",
      "File \u001b[0;32m/srv/conda/envs/notebook/lib/python3.10/site-packages/xarray/backends/api.py:526\u001b[0m, in \u001b[0;36mopen_dataset\u001b[0;34m(filename_or_obj, engine, chunks, cache, decode_cf, mask_and_scale, decode_times, decode_timedelta, use_cftime, concat_characters, decode_coords, drop_variables, inline_array, backend_kwargs, **kwargs)\u001b[0m\n\u001b[1;32m    514\u001b[0m decoders \u001b[38;5;241m=\u001b[39m _resolve_decoders_kwargs(\n\u001b[1;32m    515\u001b[0m     decode_cf,\n\u001b[1;32m    516\u001b[0m     open_backend_dataset_parameters\u001b[38;5;241m=\u001b[39mbackend\u001b[38;5;241m.\u001b[39mopen_dataset_parameters,\n\u001b[0;32m   (...)\u001b[0m\n\u001b[1;32m    522\u001b[0m     decode_coords\u001b[38;5;241m=\u001b[39mdecode_coords,\n\u001b[1;32m    523\u001b[0m )\n\u001b[1;32m    525\u001b[0m overwrite_encoded_chunks \u001b[38;5;241m=\u001b[39m kwargs\u001b[38;5;241m.\u001b[39mpop(\u001b[38;5;124m\"\u001b[39m\u001b[38;5;124moverwrite_encoded_chunks\u001b[39m\u001b[38;5;124m\"\u001b[39m, \u001b[38;5;28;01mNone\u001b[39;00m)\n\u001b[0;32m--> 526\u001b[0m backend_ds \u001b[38;5;241m=\u001b[39m \u001b[43mbackend\u001b[49m\u001b[38;5;241;43m.\u001b[39;49m\u001b[43mopen_dataset\u001b[49m\u001b[43m(\u001b[49m\n\u001b[1;32m    527\u001b[0m \u001b[43m    \u001b[49m\u001b[43mfilename_or_obj\u001b[49m\u001b[43m,\u001b[49m\n\u001b[1;32m    528\u001b[0m \u001b[43m    \u001b[49m\u001b[43mdrop_variables\u001b[49m\u001b[38;5;241;43m=\u001b[39;49m\u001b[43mdrop_variables\u001b[49m\u001b[43m,\u001b[49m\n\u001b[1;32m    529\u001b[0m \u001b[43m    \u001b[49m\u001b[38;5;241;43m*\u001b[39;49m\u001b[38;5;241;43m*\u001b[39;49m\u001b[43mdecoders\u001b[49m\u001b[43m,\u001b[49m\n\u001b[1;32m    530\u001b[0m \u001b[43m    \u001b[49m\u001b[38;5;241;43m*\u001b[39;49m\u001b[38;5;241;43m*\u001b[39;49m\u001b[43mkwargs\u001b[49m\u001b[43m,\u001b[49m\n\u001b[1;32m    531\u001b[0m \u001b[43m\u001b[49m\u001b[43m)\u001b[49m\n\u001b[1;32m    532\u001b[0m ds \u001b[38;5;241m=\u001b[39m _dataset_from_backend_dataset(\n\u001b[1;32m    533\u001b[0m     backend_ds,\n\u001b[1;32m    534\u001b[0m     filename_or_obj,\n\u001b[0;32m   (...)\u001b[0m\n\u001b[1;32m    542\u001b[0m     \u001b[38;5;241m*\u001b[39m\u001b[38;5;241m*\u001b[39mkwargs,\n\u001b[1;32m    543\u001b[0m )\n\u001b[1;32m    544\u001b[0m \u001b[38;5;28;01mreturn\u001b[39;00m ds\n",
      "File \u001b[0;32m/srv/conda/envs/notebook/lib/python3.10/site-packages/xarray/backends/zarr.py:891\u001b[0m, in \u001b[0;36mZarrBackendEntrypoint.open_dataset\u001b[0;34m(self, filename_or_obj, mask_and_scale, decode_times, concat_characters, decode_coords, drop_variables, use_cftime, decode_timedelta, group, mode, synchronizer, consolidated, chunk_store, storage_options, stacklevel, zarr_version)\u001b[0m\n\u001b[1;32m    871\u001b[0m \u001b[38;5;28;01mdef\u001b[39;00m \u001b[38;5;21mopen_dataset\u001b[39m(\n\u001b[1;32m    872\u001b[0m     \u001b[38;5;28mself\u001b[39m,\n\u001b[1;32m    873\u001b[0m     filename_or_obj,\n\u001b[0;32m   (...)\u001b[0m\n\u001b[1;32m    888\u001b[0m     zarr_version\u001b[38;5;241m=\u001b[39m\u001b[38;5;28;01mNone\u001b[39;00m,\n\u001b[1;32m    889\u001b[0m ):\n\u001b[1;32m    890\u001b[0m     filename_or_obj \u001b[38;5;241m=\u001b[39m _normalize_path(filename_or_obj)\n\u001b[0;32m--> 891\u001b[0m     store \u001b[38;5;241m=\u001b[39m \u001b[43mZarrStore\u001b[49m\u001b[38;5;241;43m.\u001b[39;49m\u001b[43mopen_group\u001b[49m\u001b[43m(\u001b[49m\n\u001b[1;32m    892\u001b[0m \u001b[43m        \u001b[49m\u001b[43mfilename_or_obj\u001b[49m\u001b[43m,\u001b[49m\n\u001b[1;32m    893\u001b[0m \u001b[43m        \u001b[49m\u001b[43mgroup\u001b[49m\u001b[38;5;241;43m=\u001b[39;49m\u001b[43mgroup\u001b[49m\u001b[43m,\u001b[49m\n\u001b[1;32m    894\u001b[0m \u001b[43m        \u001b[49m\u001b[43mmode\u001b[49m\u001b[38;5;241;43m=\u001b[39;49m\u001b[43mmode\u001b[49m\u001b[43m,\u001b[49m\n\u001b[1;32m    895\u001b[0m \u001b[43m        \u001b[49m\u001b[43msynchronizer\u001b[49m\u001b[38;5;241;43m=\u001b[39;49m\u001b[43msynchronizer\u001b[49m\u001b[43m,\u001b[49m\n\u001b[1;32m    896\u001b[0m \u001b[43m        \u001b[49m\u001b[43mconsolidated\u001b[49m\u001b[38;5;241;43m=\u001b[39;49m\u001b[43mconsolidated\u001b[49m\u001b[43m,\u001b[49m\n\u001b[1;32m    897\u001b[0m \u001b[43m        \u001b[49m\u001b[43mconsolidate_on_close\u001b[49m\u001b[38;5;241;43m=\u001b[39;49m\u001b[38;5;28;43;01mFalse\u001b[39;49;00m\u001b[43m,\u001b[49m\n\u001b[1;32m    898\u001b[0m \u001b[43m        \u001b[49m\u001b[43mchunk_store\u001b[49m\u001b[38;5;241;43m=\u001b[39;49m\u001b[43mchunk_store\u001b[49m\u001b[43m,\u001b[49m\n\u001b[1;32m    899\u001b[0m \u001b[43m        \u001b[49m\u001b[43mstorage_options\u001b[49m\u001b[38;5;241;43m=\u001b[39;49m\u001b[43mstorage_options\u001b[49m\u001b[43m,\u001b[49m\n\u001b[1;32m    900\u001b[0m \u001b[43m        \u001b[49m\u001b[43mstacklevel\u001b[49m\u001b[38;5;241;43m=\u001b[39;49m\u001b[43mstacklevel\u001b[49m\u001b[43m \u001b[49m\u001b[38;5;241;43m+\u001b[39;49m\u001b[43m \u001b[49m\u001b[38;5;241;43m1\u001b[39;49m\u001b[43m,\u001b[49m\n\u001b[1;32m    901\u001b[0m \u001b[43m        \u001b[49m\u001b[43mzarr_version\u001b[49m\u001b[38;5;241;43m=\u001b[39;49m\u001b[43mzarr_version\u001b[49m\u001b[43m,\u001b[49m\n\u001b[1;32m    902\u001b[0m \u001b[43m    \u001b[49m\u001b[43m)\u001b[49m\n\u001b[1;32m    904\u001b[0m     store_entrypoint \u001b[38;5;241m=\u001b[39m StoreBackendEntrypoint()\n\u001b[1;32m    905\u001b[0m     \u001b[38;5;28;01mwith\u001b[39;00m close_on_error(store):\n",
      "File \u001b[0;32m/srv/conda/envs/notebook/lib/python3.10/site-packages/xarray/backends/zarr.py:430\u001b[0m, in \u001b[0;36mZarrStore.open_group\u001b[0;34m(cls, store, mode, synchronizer, group, consolidated, consolidate_on_close, chunk_store, storage_options, append_dim, write_region, safe_chunks, stacklevel, zarr_version)\u001b[0m\n\u001b[1;32m    428\u001b[0m     zarr_group \u001b[38;5;241m=\u001b[39m zarr\u001b[38;5;241m.\u001b[39mopen_consolidated(store, \u001b[38;5;241m*\u001b[39m\u001b[38;5;241m*\u001b[39mopen_kwargs)\n\u001b[1;32m    429\u001b[0m \u001b[38;5;28;01melse\u001b[39;00m:\n\u001b[0;32m--> 430\u001b[0m     zarr_group \u001b[38;5;241m=\u001b[39m \u001b[43mzarr\u001b[49m\u001b[38;5;241;43m.\u001b[39;49m\u001b[43mopen_group\u001b[49m\u001b[43m(\u001b[49m\u001b[43mstore\u001b[49m\u001b[43m,\u001b[49m\u001b[43m \u001b[49m\u001b[38;5;241;43m*\u001b[39;49m\u001b[38;5;241;43m*\u001b[39;49m\u001b[43mopen_kwargs\u001b[49m\u001b[43m)\u001b[49m\n\u001b[1;32m    431\u001b[0m \u001b[38;5;28;01mreturn\u001b[39;00m \u001b[38;5;28mcls\u001b[39m(\n\u001b[1;32m    432\u001b[0m     zarr_group,\n\u001b[1;32m    433\u001b[0m     mode,\n\u001b[0;32m   (...)\u001b[0m\n\u001b[1;32m    437\u001b[0m     safe_chunks,\n\u001b[1;32m    438\u001b[0m )\n",
      "File \u001b[0;32m/srv/conda/envs/notebook/lib/python3.10/site-packages/zarr/hierarchy.py:1416\u001b[0m, in \u001b[0;36mopen_group\u001b[0;34m(store, mode, cache_attrs, synchronizer, path, chunk_store, storage_options, zarr_version, meta_array)\u001b[0m\n\u001b[1;32m   1365\u001b[0m \u001b[38;5;250m\u001b[39m\u001b[38;5;124;03m\"\"\"Open a group using file-mode-like semantics.\u001b[39;00m\n\u001b[1;32m   1366\u001b[0m \n\u001b[1;32m   1367\u001b[0m \u001b[38;5;124;03mParameters\u001b[39;00m\n\u001b[0;32m   (...)\u001b[0m\n\u001b[1;32m   1412\u001b[0m \n\u001b[1;32m   1413\u001b[0m \u001b[38;5;124;03m\"\"\"\u001b[39;00m\n\u001b[1;32m   1415\u001b[0m \u001b[38;5;66;03m# handle polymorphic store arg\u001b[39;00m\n\u001b[0;32m-> 1416\u001b[0m store \u001b[38;5;241m=\u001b[39m \u001b[43m_normalize_store_arg\u001b[49m\u001b[43m(\u001b[49m\n\u001b[1;32m   1417\u001b[0m \u001b[43m    \u001b[49m\u001b[43mstore\u001b[49m\u001b[43m,\u001b[49m\u001b[43m \u001b[49m\u001b[43mstorage_options\u001b[49m\u001b[38;5;241;43m=\u001b[39;49m\u001b[43mstorage_options\u001b[49m\u001b[43m,\u001b[49m\u001b[43m \u001b[49m\u001b[43mmode\u001b[49m\u001b[38;5;241;43m=\u001b[39;49m\u001b[43mmode\u001b[49m\u001b[43m,\u001b[49m\n\u001b[1;32m   1418\u001b[0m \u001b[43m    \u001b[49m\u001b[43mzarr_version\u001b[49m\u001b[38;5;241;43m=\u001b[39;49m\u001b[43mzarr_version\u001b[49m\u001b[43m)\u001b[49m\n\u001b[1;32m   1419\u001b[0m \u001b[38;5;28;01mif\u001b[39;00m zarr_version \u001b[38;5;129;01mis\u001b[39;00m \u001b[38;5;28;01mNone\u001b[39;00m:\n\u001b[1;32m   1420\u001b[0m     zarr_version \u001b[38;5;241m=\u001b[39m \u001b[38;5;28mgetattr\u001b[39m(store, \u001b[38;5;124m'\u001b[39m\u001b[38;5;124m_store_version\u001b[39m\u001b[38;5;124m'\u001b[39m, DEFAULT_ZARR_VERSION)\n",
      "File \u001b[0;32m/srv/conda/envs/notebook/lib/python3.10/site-packages/zarr/hierarchy.py:1288\u001b[0m, in \u001b[0;36m_normalize_store_arg\u001b[0;34m(store, storage_options, mode, zarr_version)\u001b[0m\n\u001b[1;32m   1286\u001b[0m \u001b[38;5;28;01mif\u001b[39;00m store \u001b[38;5;129;01mis\u001b[39;00m \u001b[38;5;28;01mNone\u001b[39;00m:\n\u001b[1;32m   1287\u001b[0m     \u001b[38;5;28;01mreturn\u001b[39;00m MemoryStore() \u001b[38;5;28;01mif\u001b[39;00m zarr_version \u001b[38;5;241m==\u001b[39m \u001b[38;5;241m2\u001b[39m \u001b[38;5;28;01melse\u001b[39;00m MemoryStoreV3()\n\u001b[0;32m-> 1288\u001b[0m \u001b[38;5;28;01mreturn\u001b[39;00m \u001b[43mnormalize_store_arg\u001b[49m\u001b[43m(\u001b[49m\u001b[43mstore\u001b[49m\u001b[43m,\u001b[49m\n\u001b[1;32m   1289\u001b[0m \u001b[43m                           \u001b[49m\u001b[43mstorage_options\u001b[49m\u001b[38;5;241;43m=\u001b[39;49m\u001b[43mstorage_options\u001b[49m\u001b[43m,\u001b[49m\u001b[43m \u001b[49m\u001b[43mmode\u001b[49m\u001b[38;5;241;43m=\u001b[39;49m\u001b[43mmode\u001b[49m\u001b[43m,\u001b[49m\n\u001b[1;32m   1290\u001b[0m \u001b[43m                           \u001b[49m\u001b[43mzarr_version\u001b[49m\u001b[38;5;241;43m=\u001b[39;49m\u001b[43mzarr_version\u001b[49m\u001b[43m)\u001b[49m\n",
      "File \u001b[0;32m/srv/conda/envs/notebook/lib/python3.10/site-packages/zarr/storage.py:181\u001b[0m, in \u001b[0;36mnormalize_store_arg\u001b[0;34m(store, storage_options, mode, zarr_version)\u001b[0m\n\u001b[1;32m    179\u001b[0m \u001b[38;5;28;01melse\u001b[39;00m:\n\u001b[1;32m    180\u001b[0m     \u001b[38;5;28;01mraise\u001b[39;00m \u001b[38;5;167;01mValueError\u001b[39;00m(\u001b[38;5;124m\"\u001b[39m\u001b[38;5;124mzarr_version must be either 2 or 3\u001b[39m\u001b[38;5;124m\"\u001b[39m)\n\u001b[0;32m--> 181\u001b[0m \u001b[38;5;28;01mreturn\u001b[39;00m \u001b[43mnormalize_store\u001b[49m\u001b[43m(\u001b[49m\u001b[43mstore\u001b[49m\u001b[43m,\u001b[49m\u001b[43m \u001b[49m\u001b[43mstorage_options\u001b[49m\u001b[43m,\u001b[49m\u001b[43m \u001b[49m\u001b[43mmode\u001b[49m\u001b[43m)\u001b[49m\n",
      "File \u001b[0;32m/srv/conda/envs/notebook/lib/python3.10/site-packages/zarr/storage.py:145\u001b[0m, in \u001b[0;36m_normalize_store_arg_v2\u001b[0;34m(store, storage_options, mode)\u001b[0m\n\u001b[1;32m    143\u001b[0m     \u001b[38;5;28;01mimport\u001b[39;00m \u001b[38;5;21;01mfsspec\u001b[39;00m\n\u001b[1;32m    144\u001b[0m     \u001b[38;5;28;01mif\u001b[39;00m \u001b[38;5;28misinstance\u001b[39m(store, fsspec\u001b[38;5;241m.\u001b[39mFSMap):\n\u001b[0;32m--> 145\u001b[0m         \u001b[38;5;28;01mreturn\u001b[39;00m \u001b[43mFSStore\u001b[49m\u001b[43m(\u001b[49m\u001b[43mstore\u001b[49m\u001b[38;5;241;43m.\u001b[39;49m\u001b[43mroot\u001b[49m\u001b[43m,\u001b[49m\n\u001b[1;32m    146\u001b[0m \u001b[43m                       \u001b[49m\u001b[43mfs\u001b[49m\u001b[38;5;241;43m=\u001b[39;49m\u001b[43mstore\u001b[49m\u001b[38;5;241;43m.\u001b[39;49m\u001b[43mfs\u001b[49m\u001b[43m,\u001b[49m\n\u001b[1;32m    147\u001b[0m \u001b[43m                       \u001b[49m\u001b[43mmode\u001b[49m\u001b[38;5;241;43m=\u001b[39;49m\u001b[43mmode\u001b[49m\u001b[43m,\u001b[49m\n\u001b[1;32m    148\u001b[0m \u001b[43m                       \u001b[49m\u001b[43mcheck\u001b[49m\u001b[38;5;241;43m=\u001b[39;49m\u001b[43mstore\u001b[49m\u001b[38;5;241;43m.\u001b[39;49m\u001b[43mcheck\u001b[49m\u001b[43m,\u001b[49m\n\u001b[1;32m    149\u001b[0m \u001b[43m                       \u001b[49m\u001b[43mcreate\u001b[49m\u001b[38;5;241;43m=\u001b[39;49m\u001b[43mstore\u001b[49m\u001b[38;5;241;43m.\u001b[39;49m\u001b[43mcreate\u001b[49m\u001b[43m,\u001b[49m\n\u001b[1;32m    150\u001b[0m \u001b[43m                       \u001b[49m\u001b[43mmissing_exceptions\u001b[49m\u001b[38;5;241;43m=\u001b[39;49m\u001b[43mstore\u001b[49m\u001b[38;5;241;43m.\u001b[39;49m\u001b[43mmissing_exceptions\u001b[49m\u001b[43m,\u001b[49m\n\u001b[1;32m    151\u001b[0m \u001b[43m                       \u001b[49m\u001b[38;5;241;43m*\u001b[39;49m\u001b[38;5;241;43m*\u001b[39;49m\u001b[43m(\u001b[49m\u001b[43mstorage_options\u001b[49m\u001b[43m \u001b[49m\u001b[38;5;129;43;01mor\u001b[39;49;00m\u001b[43m \u001b[49m\u001b[43m{\u001b[49m\u001b[43m}\u001b[49m\u001b[43m)\u001b[49m\u001b[43m)\u001b[49m\n\u001b[1;32m    152\u001b[0m \u001b[38;5;28;01mif\u001b[39;00m \u001b[38;5;28misinstance\u001b[39m(store, \u001b[38;5;28mstr\u001b[39m):\n\u001b[1;32m    153\u001b[0m     \u001b[38;5;28;01mif\u001b[39;00m \u001b[38;5;124m\"\u001b[39m\u001b[38;5;124m://\u001b[39m\u001b[38;5;124m\"\u001b[39m \u001b[38;5;129;01min\u001b[39;00m store \u001b[38;5;129;01mor\u001b[39;00m \u001b[38;5;124m\"\u001b[39m\u001b[38;5;124m::\u001b[39m\u001b[38;5;124m\"\u001b[39m \u001b[38;5;129;01min\u001b[39;00m store:\n",
      "File \u001b[0;32m/srv/conda/envs/notebook/lib/python3.10/site-packages/zarr/storage.py:1343\u001b[0m, in \u001b[0;36mFSStore.__init__\u001b[0;34m(self, url, normalize_keys, key_separator, mode, exceptions, dimension_separator, fs, check, create, missing_exceptions, **storage_options)\u001b[0m\n\u001b[1;32m   1341\u001b[0m \u001b[38;5;28;01melse\u001b[39;00m:\n\u001b[1;32m   1342\u001b[0m     \u001b[38;5;28;01mif\u001b[39;00m storage_options:\n\u001b[0;32m-> 1343\u001b[0m         \u001b[38;5;28;01mraise\u001b[39;00m \u001b[38;5;167;01mValueError\u001b[39;00m(\u001b[38;5;124m\"\u001b[39m\u001b[38;5;124mCannot specify both fs and storage_options\u001b[39m\u001b[38;5;124m\"\u001b[39m)\n\u001b[1;32m   1344\u001b[0m     \u001b[38;5;28mself\u001b[39m\u001b[38;5;241m.\u001b[39mfs \u001b[38;5;241m=\u001b[39m fs\n\u001b[1;32m   1345\u001b[0m     \u001b[38;5;28mself\u001b[39m\u001b[38;5;241m.\u001b[39mpath \u001b[38;5;241m=\u001b[39m \u001b[38;5;28mself\u001b[39m\u001b[38;5;241m.\u001b[39mfs\u001b[38;5;241m.\u001b[39m_strip_protocol(url)\n",
      "\u001b[0;31mValueError\u001b[0m: Cannot specify both fs and storage_options"
     ]
    }
   ],
   "source": [
    "catalogue=\"https://object-store.cloud.muni.cz/swift/v1/foss4g-catalogue/c_gls_NDVI-LTS_1999-2019.json\"\n",
    "LTS = xr.open_mfdataset(\n",
    "    \"reference://\", engine=\"zarr\",\n",
    "    backend_kwargs={\n",
    "        \"storage_options\": {\n",
    "            \"fo\":catalogue,\n",
    "            \"remote_protocol\": \"s3\",\n",
    "            \"remote_options\": {\"anon\": True}\n",
    "        },\n",
    "        \"consolidated\": False\n",
    "    }\n",
    ")\n",
    "LTS"
   ]
  },
  {
   "cell_type": "code",
   "execution_count": 23,
   "id": "0345c68d-9b75-4639-8007-e0e94ca27ca5",
   "metadata": {
    "tags": []
   },
   "outputs": [
    {
     "name": "stdout",
     "output_type": "stream",
     "text": [
      "--2023-03-07 12:19:01--  https://object-store.cloud.muni.cz/swift/v1/foss4g-catalogue/c_gls_NDVI-LTS_1999-2019.json\n",
      "Resolving object-store.cloud.muni.cz (object-store.cloud.muni.cz)... 147.251.62.11\n",
      "Connecting to object-store.cloud.muni.cz (object-store.cloud.muni.cz)|147.251.62.11|:443... connected.\n",
      "HTTP request sent, awaiting response... 200 OK\n",
      "Length: 6230956 (5.9M) [application/json]\n",
      "Saving to: ‘c_gls_NDVI-LTS_1999-2019.json’\n",
      "\n",
      "c_gls_NDVI-LTS_1999 100%[===================>]   5.94M  --.-KB/s    in 0.04s   \n",
      "\n",
      "2023-03-07 12:19:01 (149 MB/s) - ‘c_gls_NDVI-LTS_1999-2019.json’ saved [6230956/6230956]\n",
      "\n"
     ]
    }
   ],
   "source": [
    "!wget https://object-store.cloud.muni.cz/swift/v1/foss4g-catalogue/c_gls_NDVI-LTS_1999-2019.json"
   ]
  },
  {
   "cell_type": "code",
   "execution_count": null,
   "id": "bc2cbd9f-bd9d-4ba4-aed0-4329b57bacbb",
   "metadata": {},
   "outputs": [],
   "source": []
  }
 ],
 "metadata": {
  "kernelspec": {
   "display_name": "Python 3 (ipykernel)",
   "language": "python",
   "name": "python3"
  },
  "language_info": {
   "codemirror_mode": {
    "name": "ipython",
    "version": 3
   },
   "file_extension": ".py",
   "mimetype": "text/x-python",
   "name": "python",
   "nbconvert_exporter": "python",
   "pygments_lexer": "ipython3",
   "version": "3.10.9"
  }
 },
 "nbformat": 4,
 "nbformat_minor": 5
}
